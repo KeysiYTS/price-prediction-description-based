{
  "nbformat": 4,
  "nbformat_minor": 0,
  "metadata": {
    "colab": {
      "name": "Prediction_Description.ipynb",
      "provenance": [],
      "collapsed_sections": [],
      "include_colab_link": true
    },
    "kernelspec": {
      "name": "python3",
      "display_name": "Python 3"
    },
    "language_info": {
      "name": "python"
    }
  },
  "cells": [
    {
      "cell_type": "markdown",
      "metadata": {
        "id": "view-in-github",
        "colab_type": "text"
      },
      "source": [
        "<a href=\"https://colab.research.google.com/github/KeysiYTS/price-prediction-description-based/blob/dev/Prediction_Description.ipynb\" target=\"_parent\"><img src=\"https://colab.research.google.com/assets/colab-badge.svg\" alt=\"Open In Colab\"/></a>"
      ]
    },
    {
      "cell_type": "code",
      "metadata": {
        "id": "bz7Qre5pFl8J",
        "colab": {
          "base_uri": "https://localhost:8080/"
        },
        "outputId": "a676a4d5-e017-4348-af6e-2039e25c3922"
      },
      "source": [
        "!pip install neattext --quiet\n",
        "!pip install -U sentence-transformers --quiet"
      ],
      "execution_count": null,
      "outputs": [
        {
          "output_type": "stream",
          "text": [
            "\u001b[K     |████████████████████████████████| 112kB 4.0MB/s \n",
            "\u001b[K     |████████████████████████████████| 81kB 2.7MB/s \n",
            "\u001b[K     |████████████████████████████████| 2.3MB 11.4MB/s \n",
            "\u001b[K     |████████████████████████████████| 1.2MB 28.4MB/s \n",
            "\u001b[K     |████████████████████████████████| 3.3MB 38.7MB/s \n",
            "\u001b[K     |████████████████████████████████| 901kB 43.1MB/s \n",
            "\u001b[?25h  Building wheel for sentence-transformers (setup.py) ... \u001b[?25l\u001b[?25hdone\n"
          ],
          "name": "stdout"
        }
      ]
    },
    {
      "cell_type": "code",
      "metadata": {
        "colab": {
          "base_uri": "https://localhost:8080/"
        },
        "id": "lZNH9dRhJBnf",
        "outputId": "f1e76fca-1c76-4cb1-be98-f173b231061c"
      },
      "source": [
        "!gdown --id 1y6Y4rYWAmZbWBsxZV92eeLcnA27svOii"
      ],
      "execution_count": null,
      "outputs": [
        {
          "output_type": "stream",
          "text": [
            "Downloading...\n",
            "From: https://drive.google.com/uc?id=1y6Y4rYWAmZbWBsxZV92eeLcnA27svOii\n",
            "To: /content/train.csv\n",
            "\r0.00B [00:00, ?B/s]\r11.0MB [00:00, 110MB/s]\r17.2MB [00:00, 104MB/s]\n"
          ],
          "name": "stdout"
        }
      ]
    },
    {
      "cell_type": "code",
      "metadata": {
        "colab": {
          "base_uri": "https://localhost:8080/"
        },
        "id": "qqXT9E2fK2wt",
        "outputId": "3ee6947d-f253-4780-9868-7123c49b6fae"
      },
      "source": [
        "!gdown --id 11hUxSKSOEAnjlCKtvPpDJ3QOeGbMcPTC"
      ],
      "execution_count": null,
      "outputs": [
        {
          "output_type": "stream",
          "text": [
            "Downloading...\n",
            "From: https://drive.google.com/uc?id=11hUxSKSOEAnjlCKtvPpDJ3QOeGbMcPTC\n",
            "To: /content/test.csv\n",
            "\r0.00B [00:00, ?B/s]\r5.66MB [00:00, 89.1MB/s]\n"
          ],
          "name": "stdout"
        }
      ]
    },
    {
      "cell_type": "code",
      "metadata": {
        "id": "GqdM5Adlt84G"
      },
      "source": [
        "!pip install wordcloud --quiet"
      ],
      "execution_count": null,
      "outputs": []
    },
    {
      "cell_type": "markdown",
      "metadata": {
        "id": "FXGOfqflD2yE"
      },
      "source": [
        "## Libs"
      ]
    },
    {
      "cell_type": "code",
      "metadata": {
        "id": "8E9DlErLBJDl"
      },
      "source": [
        "import pandas as pd\n",
        "import re\n",
        "import seaborn as sns\n",
        "import matplotlib.pyplot as plt\n",
        "from matplotlib.pyplot import scatter\n",
        "import neattext as nt\n",
        "import neattext.functions as ntx\n",
        "import time"
      ],
      "execution_count": null,
      "outputs": []
    },
    {
      "cell_type": "code",
      "metadata": {
        "id": "ueeui5mCEVhu"
      },
      "source": [
        "from sentence_transformers import SentenceTransformer\n",
        "from wordcloud import WordCloud, ImageColorGenerator\n",
        "from sklearn.linear_model import LinearRegression\n",
        "from sklearn.linear_model import BayesianRidge\n",
        "from sklearn.linear_model import Ridge\n",
        "from sklearn.ensemble import RandomForestRegressor\n",
        "from sklearn.model_selection import train_test_split\n",
        "from sklearn.feature_extraction.text import TfidfVectorizer"
      ],
      "execution_count": null,
      "outputs": []
    },
    {
      "cell_type": "markdown",
      "metadata": {
        "id": "T15ItA_K7TiQ"
      },
      "source": [
        "CRIAR PIPELINE -> TFID + TREINO\n",
        "PYTHON MACHINE LEARNING, CAP 9"
      ]
    },
    {
      "cell_type": "markdown",
      "metadata": {
        "id": "wFvz9WXGrBmr"
      },
      "source": [
        "# Functions"
      ]
    },
    {
      "cell_type": "code",
      "metadata": {
        "id": "ycQnLvv-VVI8"
      },
      "source": [
        "def vectorize_train(words):\n",
        "  # tfidf stop -> stop word list\n",
        "  vectorizer = TfidfVectorizer(max_features = 800)\n",
        "  fitted_vectorizer = vectorizer.fit(words)\n",
        "  sentece_vector = fitted_vectorizer.transform(words)\n",
        "  return sentece_vector, fitted_vectorizer\n",
        "\n",
        "def vectorize_test(fitted_vectorizer, words):\n",
        "  sentece_vector = fitted_vectorizer.transform(words)\n",
        "  return sentece_vector"
      ],
      "execution_count": null,
      "outputs": []
    },
    {
      "cell_type": "code",
      "metadata": {
        "id": "arlyCWTvE0UW"
      },
      "source": [
        "def remove_spechar(comment):\n",
        "  comment = re.sub(r'\\W+', ' ', comment)\n",
        "  return comment"
      ],
      "execution_count": null,
      "outputs": []
    },
    {
      "cell_type": "code",
      "metadata": {
        "id": "BvXwEy0DEnrI"
      },
      "source": [
        "def remove_stopwords(comment):\n",
        "  comment = ntx.remove_stopwords(comment)\n",
        "  return comment"
      ],
      "execution_count": null,
      "outputs": []
    },
    {
      "cell_type": "markdown",
      "metadata": {
        "id": "pkNCjMFID0hO"
      },
      "source": [
        "## Getting the file"
      ]
    },
    {
      "cell_type": "code",
      "metadata": {
        "id": "kusMf2qbBNgI"
      },
      "source": [
        "file_path = 'train.csv'#'/content/drive/MyDrive/0. Machine Learning/Projetos/Prediction_Description_based/Cópia de train.csv'"
      ],
      "execution_count": null,
      "outputs": []
    },
    {
      "cell_type": "code",
      "metadata": {
        "colab": {
          "base_uri": "https://localhost:8080/",
          "height": 428
        },
        "id": "fxJyXCNyBqcd",
        "outputId": "ec1782a4-8505-462c-c20b-b0d727d57a4d"
      },
      "source": [
        "dataset = pd.read_csv(file_path)\n",
        "dataset.head()"
      ],
      "execution_count": null,
      "outputs": [
        {
          "output_type": "execute_result",
          "data": {
            "text/html": [
              "<div>\n",
              "<style scoped>\n",
              "    .dataframe tbody tr th:only-of-type {\n",
              "        vertical-align: middle;\n",
              "    }\n",
              "\n",
              "    .dataframe tbody tr th {\n",
              "        vertical-align: top;\n",
              "    }\n",
              "\n",
              "    .dataframe thead th {\n",
              "        text-align: right;\n",
              "    }\n",
              "</style>\n",
              "<table border=\"1\" class=\"dataframe\">\n",
              "  <thead>\n",
              "    <tr style=\"text-align: right;\">\n",
              "      <th></th>\n",
              "      <th>CloseDate</th>\n",
              "      <th>City</th>\n",
              "      <th>PostalCode</th>\n",
              "      <th>PropertySubType</th>\n",
              "      <th>ArchitecturalStyle</th>\n",
              "      <th>Levels</th>\n",
              "      <th>Sewer</th>\n",
              "      <th>StructureType</th>\n",
              "      <th>SubdivisionName</th>\n",
              "      <th>BathroomsFull</th>\n",
              "      <th>BathroomsHalf</th>\n",
              "      <th>BathroomsTotalInteger</th>\n",
              "      <th>BedroomsTotal</th>\n",
              "      <th>BuildingAreaTotal</th>\n",
              "      <th>DaysOnMarket</th>\n",
              "      <th>ListPrice</th>\n",
              "      <th>OriginalListPrice</th>\n",
              "      <th>YearBuilt</th>\n",
              "      <th>BedrmsAboveGrade</th>\n",
              "      <th>EnsuiteYN</th>\n",
              "      <th>FireplacesTotal</th>\n",
              "      <th>GarageYN</th>\n",
              "      <th>ListPriceSquareFoot</th>\n",
              "      <th>LotSizeSquareFeet</th>\n",
              "      <th>ParkingTotal</th>\n",
              "      <th>NewConstructionYN</th>\n",
              "      <th>RoomsAboveGrade</th>\n",
              "      <th>BuildingAreaTotalMetres</th>\n",
              "      <th>BuildingAreaTotalSF</th>\n",
              "      <th>LivingAreaMetres</th>\n",
              "      <th>LivingAreaSF</th>\n",
              "      <th>PublicRemarks</th>\n",
              "      <th>ClosePrice</th>\n",
              "    </tr>\n",
              "  </thead>\n",
              "  <tbody>\n",
              "    <tr>\n",
              "      <th>0</th>\n",
              "      <td>2016-01-03</td>\n",
              "      <td>Red Deer</td>\n",
              "      <td>T4R</td>\n",
              "      <td>Detached</td>\n",
              "      <td>2 Storey</td>\n",
              "      <td>Two</td>\n",
              "      <td>Sewer</td>\n",
              "      <td>House</td>\n",
              "      <td>Vanier Woods</td>\n",
              "      <td>NaN</td>\n",
              "      <td>NaN</td>\n",
              "      <td>4.0</td>\n",
              "      <td>4.0</td>\n",
              "      <td>1269.0</td>\n",
              "      <td>21.0</td>\n",
              "      <td>379900.0</td>\n",
              "      <td>379900.0</td>\n",
              "      <td>2007.0</td>\n",
              "      <td>NaN</td>\n",
              "      <td>1.0</td>\n",
              "      <td>0.0</td>\n",
              "      <td>1.0</td>\n",
              "      <td>299.3696</td>\n",
              "      <td>3920.0</td>\n",
              "      <td>2.0</td>\n",
              "      <td>0.0</td>\n",
              "      <td>9.0</td>\n",
              "      <td>117.89</td>\n",
              "      <td>1269.0</td>\n",
              "      <td>117.89</td>\n",
              "      <td>1269.0</td>\n",
              "      <td>Great location in SE Red Deer, close to parks,...</td>\n",
              "      <td>370000.0</td>\n",
              "    </tr>\n",
              "    <tr>\n",
              "      <th>1</th>\n",
              "      <td>2016-01-03</td>\n",
              "      <td>Red Deer</td>\n",
              "      <td>T4P</td>\n",
              "      <td>Apartment</td>\n",
              "      <td>Apartment</td>\n",
              "      <td>NaN</td>\n",
              "      <td>Sewer</td>\n",
              "      <td>NaN</td>\n",
              "      <td>Clearview Meadows</td>\n",
              "      <td>2.0</td>\n",
              "      <td>NaN</td>\n",
              "      <td>2.0</td>\n",
              "      <td>2.0</td>\n",
              "      <td>983.0</td>\n",
              "      <td>27.0</td>\n",
              "      <td>199900.0</td>\n",
              "      <td>199900.0</td>\n",
              "      <td>2001.0</td>\n",
              "      <td>NaN</td>\n",
              "      <td>1.0</td>\n",
              "      <td>0.0</td>\n",
              "      <td>0.0</td>\n",
              "      <td>203.3571</td>\n",
              "      <td>NaN</td>\n",
              "      <td>NaN</td>\n",
              "      <td>0.0</td>\n",
              "      <td>7.0</td>\n",
              "      <td>91.32</td>\n",
              "      <td>983.0</td>\n",
              "      <td>91.32</td>\n",
              "      <td>983.0</td>\n",
              "      <td>Main floor one of a kind suite in Legacy Estat...</td>\n",
              "      <td>197000.0</td>\n",
              "    </tr>\n",
              "    <tr>\n",
              "      <th>2</th>\n",
              "      <td>2016-01-04</td>\n",
              "      <td>Red Deer</td>\n",
              "      <td>T4P</td>\n",
              "      <td>Semi Detached</td>\n",
              "      <td>Bi-Level</td>\n",
              "      <td>Bi-Level</td>\n",
              "      <td>Sewer</td>\n",
              "      <td>Duplex</td>\n",
              "      <td>Kingsgate</td>\n",
              "      <td>NaN</td>\n",
              "      <td>NaN</td>\n",
              "      <td>2.0</td>\n",
              "      <td>3.0</td>\n",
              "      <td>690.0</td>\n",
              "      <td>41.0</td>\n",
              "      <td>254900.0</td>\n",
              "      <td>254900.0</td>\n",
              "      <td>2004.0</td>\n",
              "      <td>NaN</td>\n",
              "      <td>0.0</td>\n",
              "      <td>0.0</td>\n",
              "      <td>1.0</td>\n",
              "      <td>369.4203</td>\n",
              "      <td>NaN</td>\n",
              "      <td>NaN</td>\n",
              "      <td>0.0</td>\n",
              "      <td>4.0</td>\n",
              "      <td>64.10</td>\n",
              "      <td>690.0</td>\n",
              "      <td>64.10</td>\n",
              "      <td>690.0</td>\n",
              "      <td>Welcome to this immaculate half duplex in Kent...</td>\n",
              "      <td>248500.0</td>\n",
              "    </tr>\n",
              "    <tr>\n",
              "      <th>3</th>\n",
              "      <td>2016-01-04</td>\n",
              "      <td>Red Deer</td>\n",
              "      <td>T4P</td>\n",
              "      <td>Detached</td>\n",
              "      <td>NaN</td>\n",
              "      <td>4 Level Split</td>\n",
              "      <td>Sewer</td>\n",
              "      <td>House</td>\n",
              "      <td>Clearview Meadows</td>\n",
              "      <td>3.0</td>\n",
              "      <td>NaN</td>\n",
              "      <td>3.0</td>\n",
              "      <td>6.0</td>\n",
              "      <td>1206.0</td>\n",
              "      <td>26.0</td>\n",
              "      <td>374000.0</td>\n",
              "      <td>374000.0</td>\n",
              "      <td>1989.0</td>\n",
              "      <td>3.0</td>\n",
              "      <td>1.0</td>\n",
              "      <td>1.0</td>\n",
              "      <td>1.0</td>\n",
              "      <td>310.1161</td>\n",
              "      <td>7048.0</td>\n",
              "      <td>NaN</td>\n",
              "      <td>0.0</td>\n",
              "      <td>8.0</td>\n",
              "      <td>112.04</td>\n",
              "      <td>1206.0</td>\n",
              "      <td>112.04</td>\n",
              "      <td>1206.0</td>\n",
              "      <td>For more property details please click on the ...</td>\n",
              "      <td>368000.0</td>\n",
              "    </tr>\n",
              "    <tr>\n",
              "      <th>4</th>\n",
              "      <td>2016-01-04</td>\n",
              "      <td>Lethbridge</td>\n",
              "      <td>T1K</td>\n",
              "      <td>Detached</td>\n",
              "      <td>NaN</td>\n",
              "      <td>4 Level Split</td>\n",
              "      <td>Sewer</td>\n",
              "      <td>House</td>\n",
              "      <td>Varsity Village</td>\n",
              "      <td>2.0</td>\n",
              "      <td>1.0</td>\n",
              "      <td>3.0</td>\n",
              "      <td>5.0</td>\n",
              "      <td>1136.0</td>\n",
              "      <td>82.0</td>\n",
              "      <td>279900.0</td>\n",
              "      <td>279900.0</td>\n",
              "      <td>1981.0</td>\n",
              "      <td>3.0</td>\n",
              "      <td>1.0</td>\n",
              "      <td>1.0</td>\n",
              "      <td>1.0</td>\n",
              "      <td>246.3908</td>\n",
              "      <td>5775.0</td>\n",
              "      <td>NaN</td>\n",
              "      <td>0.0</td>\n",
              "      <td>7.0</td>\n",
              "      <td>105.54</td>\n",
              "      <td>1136.0</td>\n",
              "      <td>105.54</td>\n",
              "      <td>1136.0</td>\n",
              "      <td>WOW! 5 bedroom, 3 bath home right on Nicholas ...</td>\n",
              "      <td>269000.0</td>\n",
              "    </tr>\n",
              "  </tbody>\n",
              "</table>\n",
              "</div>"
            ],
            "text/plain": [
              "    CloseDate  ... ClosePrice\n",
              "0  2016-01-03  ...   370000.0\n",
              "1  2016-01-03  ...   197000.0\n",
              "2  2016-01-04  ...   248500.0\n",
              "3  2016-01-04  ...   368000.0\n",
              "4  2016-01-04  ...   269000.0\n",
              "\n",
              "[5 rows x 33 columns]"
            ]
          },
          "metadata": {
            "tags": []
          },
          "execution_count": 11
        }
      ]
    },
    {
      "cell_type": "markdown",
      "metadata": {
        "id": "kK2EJUBlCxmY"
      },
      "source": [
        "## Exploring data"
      ]
    },
    {
      "cell_type": "code",
      "metadata": {
        "id": "8Frnr4EaBw6r",
        "colab": {
          "base_uri": "https://localhost:8080/"
        },
        "outputId": "e954ad80-7ad9-483d-e767-79a670ac601b"
      },
      "source": [
        "dataset.info()"
      ],
      "execution_count": null,
      "outputs": [
        {
          "output_type": "stream",
          "text": [
            "<class 'pandas.core.frame.DataFrame'>\n",
            "RangeIndex: 17937 entries, 0 to 17936\n",
            "Data columns (total 33 columns):\n",
            " #   Column                   Non-Null Count  Dtype  \n",
            "---  ------                   --------------  -----  \n",
            " 0   CloseDate                17937 non-null  object \n",
            " 1   City                     17937 non-null  object \n",
            " 2   PostalCode               17937 non-null  object \n",
            " 3   PropertySubType          17388 non-null  object \n",
            " 4   ArchitecturalStyle       15895 non-null  object \n",
            " 5   Levels                   15536 non-null  object \n",
            " 6   Sewer                    17582 non-null  object \n",
            " 7   StructureType            14418 non-null  object \n",
            " 8   SubdivisionName          17854 non-null  object \n",
            " 9   BathroomsFull            14857 non-null  float64\n",
            " 10  BathroomsHalf            12559 non-null  float64\n",
            " 11  BathroomsTotalInteger    17568 non-null  float64\n",
            " 12  BedroomsTotal            17900 non-null  float64\n",
            " 13  BuildingAreaTotal        17780 non-null  float64\n",
            " 14  DaysOnMarket             17937 non-null  float64\n",
            " 15  ListPrice                17937 non-null  float64\n",
            " 16  OriginalListPrice        17677 non-null  float64\n",
            " 17  YearBuilt                17785 non-null  float64\n",
            " 18  BedrmsAboveGrade         15066 non-null  float64\n",
            " 19  EnsuiteYN                17424 non-null  float64\n",
            " 20  FireplacesTotal          16930 non-null  float64\n",
            " 21  GarageYN                 17934 non-null  float64\n",
            " 22  ListPriceSquareFoot      16988 non-null  float64\n",
            " 23  LotSizeSquareFeet        4828 non-null   float64\n",
            " 24  ParkingTotal             4474 non-null   float64\n",
            " 25  NewConstructionYN        17722 non-null  float64\n",
            " 26  RoomsAboveGrade          17767 non-null  float64\n",
            " 27  BuildingAreaTotalMetres  17780 non-null  float64\n",
            " 28  BuildingAreaTotalSF      17780 non-null  float64\n",
            " 29  LivingAreaMetres         17776 non-null  float64\n",
            " 30  LivingAreaSF             17776 non-null  float64\n",
            " 31  PublicRemarks            17937 non-null  object \n",
            " 32  ClosePrice               17937 non-null  float64\n",
            "dtypes: float64(23), object(10)\n",
            "memory usage: 4.5+ MB\n"
          ],
          "name": "stdout"
        }
      ]
    },
    {
      "cell_type": "markdown",
      "metadata": {
        "id": "yCNwrfW8CEW2"
      },
      "source": [
        "For this project, I'll try to analyze if the column `PublicRemarks` can pedict the price"
      ]
    },
    {
      "cell_type": "markdown",
      "metadata": {
        "id": "WlAApEGQGtDY"
      },
      "source": [
        "## New Dataset"
      ]
    },
    {
      "cell_type": "code",
      "metadata": {
        "id": "60FKZqJ_B99O",
        "colab": {
          "base_uri": "https://localhost:8080/",
          "height": 204
        },
        "outputId": "cf98f1e8-c4f3-4384-ab96-4289b77763cd"
      },
      "source": [
        "new_dataset = dataset[['PublicRemarks', 'ClosePrice']]\n",
        "new_dataset.head()"
      ],
      "execution_count": null,
      "outputs": [
        {
          "output_type": "execute_result",
          "data": {
            "text/html": [
              "<div>\n",
              "<style scoped>\n",
              "    .dataframe tbody tr th:only-of-type {\n",
              "        vertical-align: middle;\n",
              "    }\n",
              "\n",
              "    .dataframe tbody tr th {\n",
              "        vertical-align: top;\n",
              "    }\n",
              "\n",
              "    .dataframe thead th {\n",
              "        text-align: right;\n",
              "    }\n",
              "</style>\n",
              "<table border=\"1\" class=\"dataframe\">\n",
              "  <thead>\n",
              "    <tr style=\"text-align: right;\">\n",
              "      <th></th>\n",
              "      <th>PublicRemarks</th>\n",
              "      <th>ClosePrice</th>\n",
              "    </tr>\n",
              "  </thead>\n",
              "  <tbody>\n",
              "    <tr>\n",
              "      <th>0</th>\n",
              "      <td>Great location in SE Red Deer, close to parks,...</td>\n",
              "      <td>370000.0</td>\n",
              "    </tr>\n",
              "    <tr>\n",
              "      <th>1</th>\n",
              "      <td>Main floor one of a kind suite in Legacy Estat...</td>\n",
              "      <td>197000.0</td>\n",
              "    </tr>\n",
              "    <tr>\n",
              "      <th>2</th>\n",
              "      <td>Welcome to this immaculate half duplex in Kent...</td>\n",
              "      <td>248500.0</td>\n",
              "    </tr>\n",
              "    <tr>\n",
              "      <th>3</th>\n",
              "      <td>For more property details please click on the ...</td>\n",
              "      <td>368000.0</td>\n",
              "    </tr>\n",
              "    <tr>\n",
              "      <th>4</th>\n",
              "      <td>WOW! 5 bedroom, 3 bath home right on Nicholas ...</td>\n",
              "      <td>269000.0</td>\n",
              "    </tr>\n",
              "  </tbody>\n",
              "</table>\n",
              "</div>"
            ],
            "text/plain": [
              "                                       PublicRemarks  ClosePrice\n",
              "0  Great location in SE Red Deer, close to parks,...    370000.0\n",
              "1  Main floor one of a kind suite in Legacy Estat...    197000.0\n",
              "2  Welcome to this immaculate half duplex in Kent...    248500.0\n",
              "3  For more property details please click on the ...    368000.0\n",
              "4  WOW! 5 bedroom, 3 bath home right on Nicholas ...    269000.0"
            ]
          },
          "metadata": {
            "tags": []
          },
          "execution_count": 13
        }
      ]
    },
    {
      "cell_type": "code",
      "metadata": {
        "id": "5kiuZ3ijCc7J",
        "colab": {
          "base_uri": "https://localhost:8080/"
        },
        "outputId": "1b78acce-e3fb-4a5f-a45e-30f42355949f"
      },
      "source": [
        "new_dataset.shape\n",
        "new_dataset.info()"
      ],
      "execution_count": null,
      "outputs": [
        {
          "output_type": "stream",
          "text": [
            "<class 'pandas.core.frame.DataFrame'>\n",
            "RangeIndex: 17937 entries, 0 to 17936\n",
            "Data columns (total 2 columns):\n",
            " #   Column         Non-Null Count  Dtype  \n",
            "---  ------         --------------  -----  \n",
            " 0   PublicRemarks  17937 non-null  object \n",
            " 1   ClosePrice     17937 non-null  float64\n",
            "dtypes: float64(1), object(1)\n",
            "memory usage: 280.4+ KB\n"
          ],
          "name": "stdout"
        }
      ]
    },
    {
      "cell_type": "markdown",
      "metadata": {
        "id": "Flz_vIASCnt8"
      },
      "source": [
        "both columns are filled with `17937`, so I won't need to fill empty values\n",
        " "
      ]
    },
    {
      "cell_type": "markdown",
      "metadata": {
        "id": "8L1hdg8VvzxN"
      },
      "source": [
        "### Word Cloud"
      ]
    },
    {
      "cell_type": "code",
      "metadata": {
        "id": "fQx005Imv2FK"
      },
      "source": [
        "# Creating on huge text with 10% of the lines\n",
        "full_text = \" \".join(description for description in new_dataset['PublicRemarks'][:1699])"
      ],
      "execution_count": null,
      "outputs": []
    },
    {
      "cell_type": "code",
      "metadata": {
        "id": "M5bYs-5ewjCj",
        "colab": {
          "base_uri": "https://localhost:8080/",
          "height": 366
        },
        "outputId": "447a52d9-9d0b-465c-d9a4-f46a3010f63e"
      },
      "source": [
        "plt.figure(figsize=(12,12))\n",
        "wordcloud = WordCloud(max_words=200).generate(full_text)\n",
        "plt.imshow(wordcloud, interpolation='bilinear')\n",
        "plt.axis(\"off\")\n",
        "plt.show()"
      ],
      "execution_count": null,
      "outputs": [
        {
          "output_type": "display_data",
          "data": {
            "image/png": "[encoded data removed]",
            "text/plain": [
              "<Figure size 864x864 with 1 Axes>"
            ]
          },
          "metadata": {
            "tags": [],
            "needs_background": "light"
          }
        }
      ]
    },
    {
      "cell_type": "markdown",
      "metadata": {
        "id": "2ygtntfFC5Fu"
      },
      "source": [
        "## Treating text"
      ]
    },
    {
      "cell_type": "markdown",
      "metadata": {
        "id": "y51kMlSPC8Wk"
      },
      "source": [
        "### Convert values to lowercase"
      ]
    },
    {
      "cell_type": "code",
      "metadata": {
        "id": "QqiSaNCGCjO7",
        "colab": {
          "base_uri": "https://localhost:8080/",
          "height": 306
        },
        "outputId": "6071ba06-fab3-4632-df94-347502f46993"
      },
      "source": [
        "new_dataset['PublicRemarks'] = new_dataset['PublicRemarks'].str.lower()\n",
        "new_dataset.head()"
      ],
      "execution_count": null,
      "outputs": [
        {
          "output_type": "stream",
          "text": [
            "/usr/local/lib/python3.7/dist-packages/ipykernel_launcher.py:1: SettingWithCopyWarning: \n",
            "A value is trying to be set on a copy of a slice from a DataFrame.\n",
            "Try using .loc[row_indexer,col_indexer] = value instead\n",
            "\n",
            "See the caveats in the documentation: https://pandas.pydata.org/pandas-docs/stable/user_guide/indexing.html#returning-a-view-versus-a-copy\n",
            "  \"\"\"Entry point for launching an IPython kernel.\n"
          ],
          "name": "stderr"
        },
        {
          "output_type": "execute_result",
          "data": {
            "text/html": [
              "<div>\n",
              "<style scoped>\n",
              "    .dataframe tbody tr th:only-of-type {\n",
              "        vertical-align: middle;\n",
              "    }\n",
              "\n",
              "    .dataframe tbody tr th {\n",
              "        vertical-align: top;\n",
              "    }\n",
              "\n",
              "    .dataframe thead th {\n",
              "        text-align: right;\n",
              "    }\n",
              "</style>\n",
              "<table border=\"1\" class=\"dataframe\">\n",
              "  <thead>\n",
              "    <tr style=\"text-align: right;\">\n",
              "      <th></th>\n",
              "      <th>PublicRemarks</th>\n",
              "      <th>ClosePrice</th>\n",
              "    </tr>\n",
              "  </thead>\n",
              "  <tbody>\n",
              "    <tr>\n",
              "      <th>0</th>\n",
              "      <td>great location in se red deer, close to parks,...</td>\n",
              "      <td>370000.0</td>\n",
              "    </tr>\n",
              "    <tr>\n",
              "      <th>1</th>\n",
              "      <td>main floor one of a kind suite in legacy estat...</td>\n",
              "      <td>197000.0</td>\n",
              "    </tr>\n",
              "    <tr>\n",
              "      <th>2</th>\n",
              "      <td>welcome to this immaculate half duplex in kent...</td>\n",
              "      <td>248500.0</td>\n",
              "    </tr>\n",
              "    <tr>\n",
              "      <th>3</th>\n",
              "      <td>for more property details please click on the ...</td>\n",
              "      <td>368000.0</td>\n",
              "    </tr>\n",
              "    <tr>\n",
              "      <th>4</th>\n",
              "      <td>wow! 5 bedroom, 3 bath home right on nicholas ...</td>\n",
              "      <td>269000.0</td>\n",
              "    </tr>\n",
              "  </tbody>\n",
              "</table>\n",
              "</div>"
            ],
            "text/plain": [
              "                                       PublicRemarks  ClosePrice\n",
              "0  great location in se red deer, close to parks,...    370000.0\n",
              "1  main floor one of a kind suite in legacy estat...    197000.0\n",
              "2  welcome to this immaculate half duplex in kent...    248500.0\n",
              "3  for more property details please click on the ...    368000.0\n",
              "4  wow! 5 bedroom, 3 bath home right on nicholas ...    269000.0"
            ]
          },
          "metadata": {
            "tags": []
          },
          "execution_count": 17
        }
      ]
    },
    {
      "cell_type": "markdown",
      "metadata": {
        "id": "EeZI60uOEGQt"
      },
      "source": [
        "### Remove special characters"
      ]
    },
    {
      "cell_type": "code",
      "metadata": {
        "id": "6P7jjSdCDM5b",
        "colab": {
          "base_uri": "https://localhost:8080/",
          "height": 306
        },
        "outputId": "244ada10-8b08-466a-b3e1-e90a02acf765"
      },
      "source": [
        "new_dataset['PublicRemarks'] = new_dataset['PublicRemarks'].apply(remove_spechar)\n",
        "new_dataset.head()"
      ],
      "execution_count": null,
      "outputs": [
        {
          "output_type": "stream",
          "text": [
            "/usr/local/lib/python3.7/dist-packages/ipykernel_launcher.py:1: SettingWithCopyWarning: \n",
            "A value is trying to be set on a copy of a slice from a DataFrame.\n",
            "Try using .loc[row_indexer,col_indexer] = value instead\n",
            "\n",
            "See the caveats in the documentation: https://pandas.pydata.org/pandas-docs/stable/user_guide/indexing.html#returning-a-view-versus-a-copy\n",
            "  \"\"\"Entry point for launching an IPython kernel.\n"
          ],
          "name": "stderr"
        },
        {
          "output_type": "execute_result",
          "data": {
            "text/html": [
              "<div>\n",
              "<style scoped>\n",
              "    .dataframe tbody tr th:only-of-type {\n",
              "        vertical-align: middle;\n",
              "    }\n",
              "\n",
              "    .dataframe tbody tr th {\n",
              "        vertical-align: top;\n",
              "    }\n",
              "\n",
              "    .dataframe thead th {\n",
              "        text-align: right;\n",
              "    }\n",
              "</style>\n",
              "<table border=\"1\" class=\"dataframe\">\n",
              "  <thead>\n",
              "    <tr style=\"text-align: right;\">\n",
              "      <th></th>\n",
              "      <th>PublicRemarks</th>\n",
              "      <th>ClosePrice</th>\n",
              "    </tr>\n",
              "  </thead>\n",
              "  <tbody>\n",
              "    <tr>\n",
              "      <th>0</th>\n",
              "      <td>great location in se red deer close to parks s...</td>\n",
              "      <td>370000.0</td>\n",
              "    </tr>\n",
              "    <tr>\n",
              "      <th>1</th>\n",
              "      <td>main floor one of a kind suite in legacy estat...</td>\n",
              "      <td>197000.0</td>\n",
              "    </tr>\n",
              "    <tr>\n",
              "      <th>2</th>\n",
              "      <td>welcome to this immaculate half duplex in kent...</td>\n",
              "      <td>248500.0</td>\n",
              "    </tr>\n",
              "    <tr>\n",
              "      <th>3</th>\n",
              "      <td>for more property details please click on the ...</td>\n",
              "      <td>368000.0</td>\n",
              "    </tr>\n",
              "    <tr>\n",
              "      <th>4</th>\n",
              "      <td>wow 5 bedroom 3 bath home right on nicholas sh...</td>\n",
              "      <td>269000.0</td>\n",
              "    </tr>\n",
              "  </tbody>\n",
              "</table>\n",
              "</div>"
            ],
            "text/plain": [
              "                                       PublicRemarks  ClosePrice\n",
              "0  great location in se red deer close to parks s...    370000.0\n",
              "1  main floor one of a kind suite in legacy estat...    197000.0\n",
              "2  welcome to this immaculate half duplex in kent...    248500.0\n",
              "3  for more property details please click on the ...    368000.0\n",
              "4  wow 5 bedroom 3 bath home right on nicholas sh...    269000.0"
            ]
          },
          "metadata": {
            "tags": []
          },
          "execution_count": 18
        }
      ]
    },
    {
      "cell_type": "markdown",
      "metadata": {
        "id": "0UUyaetOF6CP"
      },
      "source": [
        "### Removing stopwords"
      ]
    },
    {
      "cell_type": "code",
      "metadata": {
        "id": "S9RI-KVdGJAI",
        "colab": {
          "base_uri": "https://localhost:8080/",
          "height": 306
        },
        "outputId": "a3ae26a7-f38c-433e-f655-34edb9cc5838"
      },
      "source": [
        "new_dataset['PublicRemarks'] = new_dataset['PublicRemarks'].apply(remove_stopwords)\n",
        "new_dataset.head()"
      ],
      "execution_count": null,
      "outputs": [
        {
          "output_type": "stream",
          "text": [
            "/usr/local/lib/python3.7/dist-packages/ipykernel_launcher.py:1: SettingWithCopyWarning: \n",
            "A value is trying to be set on a copy of a slice from a DataFrame.\n",
            "Try using .loc[row_indexer,col_indexer] = value instead\n",
            "\n",
            "See the caveats in the documentation: https://pandas.pydata.org/pandas-docs/stable/user_guide/indexing.html#returning-a-view-versus-a-copy\n",
            "  \"\"\"Entry point for launching an IPython kernel.\n"
          ],
          "name": "stderr"
        },
        {
          "output_type": "execute_result",
          "data": {
            "text/html": [
              "<div>\n",
              "<style scoped>\n",
              "    .dataframe tbody tr th:only-of-type {\n",
              "        vertical-align: middle;\n",
              "    }\n",
              "\n",
              "    .dataframe tbody tr th {\n",
              "        vertical-align: top;\n",
              "    }\n",
              "\n",
              "    .dataframe thead th {\n",
              "        text-align: right;\n",
              "    }\n",
              "</style>\n",
              "<table border=\"1\" class=\"dataframe\">\n",
              "  <thead>\n",
              "    <tr style=\"text-align: right;\">\n",
              "      <th></th>\n",
              "      <th>PublicRemarks</th>\n",
              "      <th>ClosePrice</th>\n",
              "    </tr>\n",
              "  </thead>\n",
              "  <tbody>\n",
              "    <tr>\n",
              "      <th>0</th>\n",
              "      <td>great location se red deer close parks schools...</td>\n",
              "      <td>370000.0</td>\n",
              "    </tr>\n",
              "    <tr>\n",
              "      <th>1</th>\n",
              "      <td>main floor kind suite legacy estates legacy es...</td>\n",
              "      <td>197000.0</td>\n",
              "    </tr>\n",
              "    <tr>\n",
              "      <th>2</th>\n",
              "      <td>welcome immaculate half duplex kentwood home f...</td>\n",
              "      <td>248500.0</td>\n",
              "    </tr>\n",
              "    <tr>\n",
              "      <th>3</th>\n",
              "      <td>property details click realtor website link af...</td>\n",
              "      <td>368000.0</td>\n",
              "    </tr>\n",
              "    <tr>\n",
              "      <th>4</th>\n",
              "      <td>wow 5 bedroom 3 bath home right nicholas shera...</td>\n",
              "      <td>269000.0</td>\n",
              "    </tr>\n",
              "  </tbody>\n",
              "</table>\n",
              "</div>"
            ],
            "text/plain": [
              "                                       PublicRemarks  ClosePrice\n",
              "0  great location se red deer close parks schools...    370000.0\n",
              "1  main floor kind suite legacy estates legacy es...    197000.0\n",
              "2  welcome immaculate half duplex kentwood home f...    248500.0\n",
              "3  property details click realtor website link af...    368000.0\n",
              "4  wow 5 bedroom 3 bath home right nicholas shera...    269000.0"
            ]
          },
          "metadata": {
            "tags": []
          },
          "execution_count": 19
        }
      ]
    },
    {
      "cell_type": "markdown",
      "metadata": {
        "id": "nlnPUqj0G50K"
      },
      "source": [
        "In this case I won't remove numbers. It might be important for the context"
      ]
    },
    {
      "cell_type": "markdown",
      "metadata": {
        "id": "ZzQuUcrN1Nm4"
      },
      "source": [
        "### Separating X and Y"
      ]
    },
    {
      "cell_type": "code",
      "metadata": {
        "id": "BplCoYZs1QiN"
      },
      "source": [
        "x = new_dataset.drop(columns=['ClosePrice'])\n",
        "y = new_dataset.drop(columns=['PublicRemarks'])"
      ],
      "execution_count": null,
      "outputs": []
    },
    {
      "cell_type": "code",
      "metadata": {
        "id": "ZcYSMV0W1dvZ"
      },
      "source": [
        "x_train, x_test, y_train, y_test = train_test_split(x, y,\n",
        "                                                    test_size=0.2,\n",
        "                                                    random_state = 64)"
      ],
      "execution_count": null,
      "outputs": []
    },
    {
      "cell_type": "markdown",
      "metadata": {
        "id": "bMnoT3X8HwC4"
      },
      "source": [
        "## Vectorizing"
      ]
    },
    {
      "cell_type": "markdown",
      "metadata": {
        "id": "PHZBZqseVSco"
      },
      "source": [
        "### Sentence Transformer"
      ]
    },
    {
      "cell_type": "code",
      "metadata": {
        "id": "8x_w02l7G_q1"
      },
      "source": [
        "#vectorizer = SentenceTransformer('paraphrase-MiniLM-L6-v2')"
      ],
      "execution_count": null,
      "outputs": []
    },
    {
      "cell_type": "code",
      "metadata": {
        "id": "AaURoYjLIFf3"
      },
      "source": [
        "#start = time.time()\n",
        "#enconded_sentences = [vectorizer.encode(phrase) for phrase in new_dataset['PublicRemarks'].values]\n",
        "#end = time.time()\n",
        "#print(\"Time to encode the dataset: %.2f seconds\" % (end-start))"
      ],
      "execution_count": null,
      "outputs": []
    },
    {
      "cell_type": "markdown",
      "metadata": {
        "id": "R6c3F3Pf5Tk0"
      },
      "source": [
        "###tfidf"
      ]
    },
    {
      "cell_type": "code",
      "metadata": {
        "id": "lJ_EByJ9aNbJ",
        "colab": {
          "base_uri": "https://localhost:8080/"
        },
        "outputId": "a3b36a6f-39d2-44d3-a98d-69bd1009c731"
      },
      "source": [
        "start = time.time()\n",
        "x_train_vec, fitted_vectorizer = vectorize_train(x_train['PublicRemarks'])\n",
        "end = time.time()\n",
        "print(\"Time to vectorize: %.2f seconds\" % (end-start))"
      ],
      "execution_count": null,
      "outputs": [
        {
          "output_type": "stream",
          "text": [
            "Time to vectorize: 1.95 seconds\n"
          ],
          "name": "stdout"
        }
      ]
    },
    {
      "cell_type": "markdown",
      "metadata": {
        "id": "5kmUhFcQYHOY"
      },
      "source": [
        "## Estimators"
      ]
    },
    {
      "cell_type": "markdown",
      "metadata": {
        "id": "pKU3PQNSITOB"
      },
      "source": [
        "### Linear Regression"
      ]
    },
    {
      "cell_type": "code",
      "metadata": {
        "id": "M_NUEbnu0DMK"
      },
      "source": [
        "lregression = LinearRegression()"
      ],
      "execution_count": null,
      "outputs": []
    },
    {
      "cell_type": "code",
      "metadata": {
        "id": "2Nzj0q6A1pRQ",
        "colab": {
          "base_uri": "https://localhost:8080/"
        },
        "outputId": "298a2061-cd49-4ec3-d7f9-77cad2dfed09"
      },
      "source": [
        "lregression.fit(x_train_vec, y_train)"
      ],
      "execution_count": null,
      "outputs": [
        {
          "output_type": "execute_result",
          "data": {
            "text/plain": [
              "LinearRegression(copy_X=True, fit_intercept=True, n_jobs=None, normalize=False)"
            ]
          },
          "metadata": {
            "tags": []
          },
          "execution_count": 26
        }
      ]
    },
    {
      "cell_type": "markdown",
      "metadata": {
        "id": "-eCVEUCCYEDC"
      },
      "source": [
        "### Ridge"
      ]
    },
    {
      "cell_type": "code",
      "metadata": {
        "id": "tuAg6kmHYGuw"
      },
      "source": [
        "ridge = Ridge(max_iter=10, random_state=64)"
      ],
      "execution_count": null,
      "outputs": []
    },
    {
      "cell_type": "code",
      "metadata": {
        "id": "LKf-hUA9YTU5",
        "colab": {
          "base_uri": "https://localhost:8080/"
        },
        "outputId": "889daab0-142f-4b04-837f-4c4c69157087"
      },
      "source": [
        "ridge.fit(x_train_vec, y_train)"
      ],
      "execution_count": null,
      "outputs": [
        {
          "output_type": "execute_result",
          "data": {
            "text/plain": [
              "Ridge(alpha=1.0, copy_X=True, fit_intercept=True, max_iter=10, normalize=False,\n",
              "      random_state=64, solver='auto', tol=0.001)"
            ]
          },
          "metadata": {
            "tags": []
          },
          "execution_count": 28
        }
      ]
    },
    {
      "cell_type": "markdown",
      "metadata": {
        "id": "cDzNcx4vYXYz"
      },
      "source": [
        "### Bayesian Ridge"
      ]
    },
    {
      "cell_type": "code",
      "metadata": {
        "id": "TWDAr5aqYZLH"
      },
      "source": [
        "bayesian_ridge = BayesianRidge()\n",
        "array_x_train_vec = x_train_vec.toarray()"
      ],
      "execution_count": null,
      "outputs": []
    },
    {
      "cell_type": "code",
      "metadata": {
        "id": "F1NC8S_aYj1S",
        "colab": {
          "base_uri": "https://localhost:8080/"
        },
        "outputId": "39301506-31fa-4a58-d9be-505db37f69b0"
      },
      "source": [
        "bayesian_ridge.fit(array_x_train_vec, y_train)"
      ],
      "execution_count": null,
      "outputs": [
        {
          "output_type": "stream",
          "text": [
            "/usr/local/lib/python3.7/dist-packages/sklearn/utils/validation.py:760: DataConversionWarning: A column-vector y was passed when a 1d array was expected. Please change the shape of y to (n_samples, ), for example using ravel().\n",
            "  y = column_or_1d(y, warn=True)\n"
          ],
          "name": "stderr"
        },
        {
          "output_type": "execute_result",
          "data": {
            "text/plain": [
              "BayesianRidge(alpha_1=1e-06, alpha_2=1e-06, alpha_init=None,\n",
              "              compute_score=False, copy_X=True, fit_intercept=True,\n",
              "              lambda_1=1e-06, lambda_2=1e-06, lambda_init=None, n_iter=300,\n",
              "              normalize=False, tol=0.001, verbose=False)"
            ]
          },
          "metadata": {
            "tags": []
          },
          "execution_count": 30
        }
      ]
    },
    {
      "cell_type": "markdown",
      "metadata": {
        "id": "Rq8fA1y6-HX8"
      },
      "source": [
        "### Random forest"
      ]
    },
    {
      "cell_type": "code",
      "metadata": {
        "colab": {
          "base_uri": "https://localhost:8080/",
          "height": 324
        },
        "id": "DBIj0xjq-JCZ",
        "outputId": "dc4d7dd6-56bc-42bd-e0b1-56486e4cda87"
      },
      "source": [
        "rforest = RandomForestRegressor()\n",
        "rforest.fit(x_train_vec, y_train['ClosePrice'].values)"
      ],
      "execution_count": null,
      "outputs": [
        {
          "output_type": "error",
          "ename": "KeyboardInterrupt",
          "evalue": "ignored",
          "traceback": [
            "\u001b[0;31m---------------------------------------------------------------------------\u001b[0m",
            "\u001b[0;31mKeyboardInterrupt\u001b[0m                         Traceback (most recent call last)",
            "\u001b[0;32m<ipython-input-31-b95bb63c3d89>\u001b[0m in \u001b[0;36m<module>\u001b[0;34m()\u001b[0m\n\u001b[1;32m      1\u001b[0m \u001b[0mrforest\u001b[0m \u001b[0;34m=\u001b[0m \u001b[0mRandomForestRegressor\u001b[0m\u001b[0;34m(\u001b[0m\u001b[0;34m)\u001b[0m\u001b[0;34m\u001b[0m\u001b[0;34m\u001b[0m\u001b[0m\n\u001b[0;32m----> 2\u001b[0;31m \u001b[0mrforest\u001b[0m\u001b[0;34m.\u001b[0m\u001b[0mfit\u001b[0m\u001b[0;34m(\u001b[0m\u001b[0mx_train_vec\u001b[0m\u001b[0;34m,\u001b[0m \u001b[0my_train\u001b[0m\u001b[0;34m[\u001b[0m\u001b[0;34m'ClosePrice'\u001b[0m\u001b[0;34m]\u001b[0m\u001b[0;34m.\u001b[0m\u001b[0mvalues\u001b[0m\u001b[0;34m)\u001b[0m\u001b[0;34m\u001b[0m\u001b[0;34m\u001b[0m\u001b[0m\n\u001b[0m",
            "\u001b[0;32m/usr/local/lib/python3.7/dist-packages/sklearn/ensemble/_forest.py\u001b[0m in \u001b[0;36mfit\u001b[0;34m(self, X, y, sample_weight)\u001b[0m\n\u001b[1;32m    381\u001b[0m                     \u001b[0mverbose\u001b[0m\u001b[0;34m=\u001b[0m\u001b[0mself\u001b[0m\u001b[0;34m.\u001b[0m\u001b[0mverbose\u001b[0m\u001b[0;34m,\u001b[0m \u001b[0mclass_weight\u001b[0m\u001b[0;34m=\u001b[0m\u001b[0mself\u001b[0m\u001b[0;34m.\u001b[0m\u001b[0mclass_weight\u001b[0m\u001b[0;34m,\u001b[0m\u001b[0;34m\u001b[0m\u001b[0;34m\u001b[0m\u001b[0m\n\u001b[1;32m    382\u001b[0m                     n_samples_bootstrap=n_samples_bootstrap)\n\u001b[0;32m--> 383\u001b[0;31m                 for i, t in enumerate(trees))\n\u001b[0m\u001b[1;32m    384\u001b[0m \u001b[0;34m\u001b[0m\u001b[0m\n\u001b[1;32m    385\u001b[0m             \u001b[0;31m# Collect newly grown trees\u001b[0m\u001b[0;34m\u001b[0m\u001b[0;34m\u001b[0m\u001b[0;34m\u001b[0m\u001b[0m\n",
            "\u001b[0;32m/usr/local/lib/python3.7/dist-packages/joblib/parallel.py\u001b[0m in \u001b[0;36m__call__\u001b[0;34m(self, iterable)\u001b[0m\n\u001b[1;32m   1042\u001b[0m                 \u001b[0mself\u001b[0m\u001b[0;34m.\u001b[0m\u001b[0m_iterating\u001b[0m \u001b[0;34m=\u001b[0m \u001b[0mself\u001b[0m\u001b[0;34m.\u001b[0m\u001b[0m_original_iterator\u001b[0m \u001b[0;32mis\u001b[0m \u001b[0;32mnot\u001b[0m \u001b[0;32mNone\u001b[0m\u001b[0;34m\u001b[0m\u001b[0;34m\u001b[0m\u001b[0m\n\u001b[1;32m   1043\u001b[0m \u001b[0;34m\u001b[0m\u001b[0m\n\u001b[0;32m-> 1044\u001b[0;31m             \u001b[0;32mwhile\u001b[0m \u001b[0mself\u001b[0m\u001b[0;34m.\u001b[0m\u001b[0mdispatch_one_batch\u001b[0m\u001b[0;34m(\u001b[0m\u001b[0miterator\u001b[0m\u001b[0;34m)\u001b[0m\u001b[0;34m:\u001b[0m\u001b[0;34m\u001b[0m\u001b[0;34m\u001b[0m\u001b[0m\n\u001b[0m\u001b[1;32m   1045\u001b[0m                 \u001b[0;32mpass\u001b[0m\u001b[0;34m\u001b[0m\u001b[0;34m\u001b[0m\u001b[0m\n\u001b[1;32m   1046\u001b[0m \u001b[0;34m\u001b[0m\u001b[0m\n",
            "\u001b[0;32m/usr/local/lib/python3.7/dist-packages/joblib/parallel.py\u001b[0m in \u001b[0;36mdispatch_one_batch\u001b[0;34m(self, iterator)\u001b[0m\n\u001b[1;32m    857\u001b[0m                 \u001b[0;32mreturn\u001b[0m \u001b[0;32mFalse\u001b[0m\u001b[0;34m\u001b[0m\u001b[0;34m\u001b[0m\u001b[0m\n\u001b[1;32m    858\u001b[0m             \u001b[0;32melse\u001b[0m\u001b[0;34m:\u001b[0m\u001b[0;34m\u001b[0m\u001b[0;34m\u001b[0m\u001b[0m\n\u001b[0;32m--> 859\u001b[0;31m                 \u001b[0mself\u001b[0m\u001b[0;34m.\u001b[0m\u001b[0m_dispatch\u001b[0m\u001b[0;34m(\u001b[0m\u001b[0mtasks\u001b[0m\u001b[0;34m)\u001b[0m\u001b[0;34m\u001b[0m\u001b[0;34m\u001b[0m\u001b[0m\n\u001b[0m\u001b[1;32m    860\u001b[0m                 \u001b[0;32mreturn\u001b[0m \u001b[0;32mTrue\u001b[0m\u001b[0;34m\u001b[0m\u001b[0;34m\u001b[0m\u001b[0m\n\u001b[1;32m    861\u001b[0m \u001b[0;34m\u001b[0m\u001b[0m\n",
            "\u001b[0;32m/usr/local/lib/python3.7/dist-packages/joblib/parallel.py\u001b[0m in \u001b[0;36m_dispatch\u001b[0;34m(self, batch)\u001b[0m\n\u001b[1;32m    775\u001b[0m         \u001b[0;32mwith\u001b[0m \u001b[0mself\u001b[0m\u001b[0;34m.\u001b[0m\u001b[0m_lock\u001b[0m\u001b[0;34m:\u001b[0m\u001b[0;34m\u001b[0m\u001b[0;34m\u001b[0m\u001b[0m\n\u001b[1;32m    776\u001b[0m             \u001b[0mjob_idx\u001b[0m \u001b[0;34m=\u001b[0m \u001b[0mlen\u001b[0m\u001b[0;34m(\u001b[0m\u001b[0mself\u001b[0m\u001b[0;34m.\u001b[0m\u001b[0m_jobs\u001b[0m\u001b[0;34m)\u001b[0m\u001b[0;34m\u001b[0m\u001b[0;34m\u001b[0m\u001b[0m\n\u001b[0;32m--> 777\u001b[0;31m             \u001b[0mjob\u001b[0m \u001b[0;34m=\u001b[0m \u001b[0mself\u001b[0m\u001b[0;34m.\u001b[0m\u001b[0m_backend\u001b[0m\u001b[0;34m.\u001b[0m\u001b[0mapply_async\u001b[0m\u001b[0;34m(\u001b[0m\u001b[0mbatch\u001b[0m\u001b[0;34m,\u001b[0m \u001b[0mcallback\u001b[0m\u001b[0;34m=\u001b[0m\u001b[0mcb\u001b[0m\u001b[0;34m)\u001b[0m\u001b[0;34m\u001b[0m\u001b[0;34m\u001b[0m\u001b[0m\n\u001b[0m\u001b[1;32m    778\u001b[0m             \u001b[0;31m# A job can complete so quickly than its callback is\u001b[0m\u001b[0;34m\u001b[0m\u001b[0;34m\u001b[0m\u001b[0;34m\u001b[0m\u001b[0m\n\u001b[1;32m    779\u001b[0m             \u001b[0;31m# called before we get here, causing self._jobs to\u001b[0m\u001b[0;34m\u001b[0m\u001b[0;34m\u001b[0m\u001b[0;34m\u001b[0m\u001b[0m\n",
            "\u001b[0;32m/usr/local/lib/python3.7/dist-packages/joblib/_parallel_backends.py\u001b[0m in \u001b[0;36mapply_async\u001b[0;34m(self, func, callback)\u001b[0m\n\u001b[1;32m    206\u001b[0m     \u001b[0;32mdef\u001b[0m \u001b[0mapply_async\u001b[0m\u001b[0;34m(\u001b[0m\u001b[0mself\u001b[0m\u001b[0;34m,\u001b[0m \u001b[0mfunc\u001b[0m\u001b[0;34m,\u001b[0m \u001b[0mcallback\u001b[0m\u001b[0;34m=\u001b[0m\u001b[0;32mNone\u001b[0m\u001b[0;34m)\u001b[0m\u001b[0;34m:\u001b[0m\u001b[0;34m\u001b[0m\u001b[0;34m\u001b[0m\u001b[0m\n\u001b[1;32m    207\u001b[0m         \u001b[0;34m\"\"\"Schedule a func to be run\"\"\"\u001b[0m\u001b[0;34m\u001b[0m\u001b[0;34m\u001b[0m\u001b[0m\n\u001b[0;32m--> 208\u001b[0;31m         \u001b[0mresult\u001b[0m \u001b[0;34m=\u001b[0m \u001b[0mImmediateResult\u001b[0m\u001b[0;34m(\u001b[0m\u001b[0mfunc\u001b[0m\u001b[0;34m)\u001b[0m\u001b[0;34m\u001b[0m\u001b[0;34m\u001b[0m\u001b[0m\n\u001b[0m\u001b[1;32m    209\u001b[0m         \u001b[0;32mif\u001b[0m \u001b[0mcallback\u001b[0m\u001b[0;34m:\u001b[0m\u001b[0;34m\u001b[0m\u001b[0;34m\u001b[0m\u001b[0m\n\u001b[1;32m    210\u001b[0m             \u001b[0mcallback\u001b[0m\u001b[0;34m(\u001b[0m\u001b[0mresult\u001b[0m\u001b[0;34m)\u001b[0m\u001b[0;34m\u001b[0m\u001b[0;34m\u001b[0m\u001b[0m\n",
            "\u001b[0;32m/usr/local/lib/python3.7/dist-packages/joblib/_parallel_backends.py\u001b[0m in \u001b[0;36m__init__\u001b[0;34m(self, batch)\u001b[0m\n\u001b[1;32m    570\u001b[0m         \u001b[0;31m# Don't delay the application, to avoid keeping the input\u001b[0m\u001b[0;34m\u001b[0m\u001b[0;34m\u001b[0m\u001b[0;34m\u001b[0m\u001b[0m\n\u001b[1;32m    571\u001b[0m         \u001b[0;31m# arguments in memory\u001b[0m\u001b[0;34m\u001b[0m\u001b[0;34m\u001b[0m\u001b[0;34m\u001b[0m\u001b[0m\n\u001b[0;32m--> 572\u001b[0;31m         \u001b[0mself\u001b[0m\u001b[0;34m.\u001b[0m\u001b[0mresults\u001b[0m \u001b[0;34m=\u001b[0m \u001b[0mbatch\u001b[0m\u001b[0;34m(\u001b[0m\u001b[0;34m)\u001b[0m\u001b[0;34m\u001b[0m\u001b[0;34m\u001b[0m\u001b[0m\n\u001b[0m\u001b[1;32m    573\u001b[0m \u001b[0;34m\u001b[0m\u001b[0m\n\u001b[1;32m    574\u001b[0m     \u001b[0;32mdef\u001b[0m \u001b[0mget\u001b[0m\u001b[0;34m(\u001b[0m\u001b[0mself\u001b[0m\u001b[0;34m)\u001b[0m\u001b[0;34m:\u001b[0m\u001b[0;34m\u001b[0m\u001b[0;34m\u001b[0m\u001b[0m\n",
            "\u001b[0;32m/usr/local/lib/python3.7/dist-packages/joblib/parallel.py\u001b[0m in \u001b[0;36m__call__\u001b[0;34m(self)\u001b[0m\n\u001b[1;32m    261\u001b[0m         \u001b[0;32mwith\u001b[0m \u001b[0mparallel_backend\u001b[0m\u001b[0;34m(\u001b[0m\u001b[0mself\u001b[0m\u001b[0;34m.\u001b[0m\u001b[0m_backend\u001b[0m\u001b[0;34m,\u001b[0m \u001b[0mn_jobs\u001b[0m\u001b[0;34m=\u001b[0m\u001b[0mself\u001b[0m\u001b[0;34m.\u001b[0m\u001b[0m_n_jobs\u001b[0m\u001b[0;34m)\u001b[0m\u001b[0;34m:\u001b[0m\u001b[0;34m\u001b[0m\u001b[0;34m\u001b[0m\u001b[0m\n\u001b[1;32m    262\u001b[0m             return [func(*args, **kwargs)\n\u001b[0;32m--> 263\u001b[0;31m                     for func, args, kwargs in self.items]\n\u001b[0m\u001b[1;32m    264\u001b[0m \u001b[0;34m\u001b[0m\u001b[0m\n\u001b[1;32m    265\u001b[0m     \u001b[0;32mdef\u001b[0m \u001b[0m__reduce__\u001b[0m\u001b[0;34m(\u001b[0m\u001b[0mself\u001b[0m\u001b[0;34m)\u001b[0m\u001b[0;34m:\u001b[0m\u001b[0;34m\u001b[0m\u001b[0;34m\u001b[0m\u001b[0m\n",
            "\u001b[0;32m/usr/local/lib/python3.7/dist-packages/joblib/parallel.py\u001b[0m in \u001b[0;36m<listcomp>\u001b[0;34m(.0)\u001b[0m\n\u001b[1;32m    261\u001b[0m         \u001b[0;32mwith\u001b[0m \u001b[0mparallel_backend\u001b[0m\u001b[0;34m(\u001b[0m\u001b[0mself\u001b[0m\u001b[0;34m.\u001b[0m\u001b[0m_backend\u001b[0m\u001b[0;34m,\u001b[0m \u001b[0mn_jobs\u001b[0m\u001b[0;34m=\u001b[0m\u001b[0mself\u001b[0m\u001b[0;34m.\u001b[0m\u001b[0m_n_jobs\u001b[0m\u001b[0;34m)\u001b[0m\u001b[0;34m:\u001b[0m\u001b[0;34m\u001b[0m\u001b[0;34m\u001b[0m\u001b[0m\n\u001b[1;32m    262\u001b[0m             return [func(*args, **kwargs)\n\u001b[0;32m--> 263\u001b[0;31m                     for func, args, kwargs in self.items]\n\u001b[0m\u001b[1;32m    264\u001b[0m \u001b[0;34m\u001b[0m\u001b[0m\n\u001b[1;32m    265\u001b[0m     \u001b[0;32mdef\u001b[0m \u001b[0m__reduce__\u001b[0m\u001b[0;34m(\u001b[0m\u001b[0mself\u001b[0m\u001b[0;34m)\u001b[0m\u001b[0;34m:\u001b[0m\u001b[0;34m\u001b[0m\u001b[0;34m\u001b[0m\u001b[0m\n",
            "\u001b[0;32m/usr/local/lib/python3.7/dist-packages/sklearn/ensemble/_forest.py\u001b[0m in \u001b[0;36m_parallel_build_trees\u001b[0;34m(tree, forest, X, y, sample_weight, tree_idx, n_trees, verbose, class_weight, n_samples_bootstrap)\u001b[0m\n\u001b[1;32m    163\u001b[0m             \u001b[0mcurr_sample_weight\u001b[0m \u001b[0;34m*=\u001b[0m \u001b[0mcompute_sample_weight\u001b[0m\u001b[0;34m(\u001b[0m\u001b[0;34m'balanced'\u001b[0m\u001b[0;34m,\u001b[0m \u001b[0my\u001b[0m\u001b[0;34m,\u001b[0m \u001b[0mindices\u001b[0m\u001b[0;34m)\u001b[0m\u001b[0;34m\u001b[0m\u001b[0;34m\u001b[0m\u001b[0m\n\u001b[1;32m    164\u001b[0m \u001b[0;34m\u001b[0m\u001b[0m\n\u001b[0;32m--> 165\u001b[0;31m         \u001b[0mtree\u001b[0m\u001b[0;34m.\u001b[0m\u001b[0mfit\u001b[0m\u001b[0;34m(\u001b[0m\u001b[0mX\u001b[0m\u001b[0;34m,\u001b[0m \u001b[0my\u001b[0m\u001b[0;34m,\u001b[0m \u001b[0msample_weight\u001b[0m\u001b[0;34m=\u001b[0m\u001b[0mcurr_sample_weight\u001b[0m\u001b[0;34m,\u001b[0m \u001b[0mcheck_input\u001b[0m\u001b[0;34m=\u001b[0m\u001b[0;32mFalse\u001b[0m\u001b[0;34m)\u001b[0m\u001b[0;34m\u001b[0m\u001b[0;34m\u001b[0m\u001b[0m\n\u001b[0m\u001b[1;32m    166\u001b[0m     \u001b[0;32melse\u001b[0m\u001b[0;34m:\u001b[0m\u001b[0;34m\u001b[0m\u001b[0;34m\u001b[0m\u001b[0m\n\u001b[1;32m    167\u001b[0m         \u001b[0mtree\u001b[0m\u001b[0;34m.\u001b[0m\u001b[0mfit\u001b[0m\u001b[0;34m(\u001b[0m\u001b[0mX\u001b[0m\u001b[0;34m,\u001b[0m \u001b[0my\u001b[0m\u001b[0;34m,\u001b[0m \u001b[0msample_weight\u001b[0m\u001b[0;34m=\u001b[0m\u001b[0msample_weight\u001b[0m\u001b[0;34m,\u001b[0m \u001b[0mcheck_input\u001b[0m\u001b[0;34m=\u001b[0m\u001b[0;32mFalse\u001b[0m\u001b[0;34m)\u001b[0m\u001b[0;34m\u001b[0m\u001b[0;34m\u001b[0m\u001b[0m\n",
            "\u001b[0;32m/usr/local/lib/python3.7/dist-packages/sklearn/tree/_classes.py\u001b[0m in \u001b[0;36mfit\u001b[0;34m(self, X, y, sample_weight, check_input, X_idx_sorted)\u001b[0m\n\u001b[1;32m   1223\u001b[0m             \u001b[0msample_weight\u001b[0m\u001b[0;34m=\u001b[0m\u001b[0msample_weight\u001b[0m\u001b[0;34m,\u001b[0m\u001b[0;34m\u001b[0m\u001b[0;34m\u001b[0m\u001b[0m\n\u001b[1;32m   1224\u001b[0m             \u001b[0mcheck_input\u001b[0m\u001b[0;34m=\u001b[0m\u001b[0mcheck_input\u001b[0m\u001b[0;34m,\u001b[0m\u001b[0;34m\u001b[0m\u001b[0;34m\u001b[0m\u001b[0m\n\u001b[0;32m-> 1225\u001b[0;31m             X_idx_sorted=X_idx_sorted)\n\u001b[0m\u001b[1;32m   1226\u001b[0m         \u001b[0;32mreturn\u001b[0m \u001b[0mself\u001b[0m\u001b[0;34m\u001b[0m\u001b[0;34m\u001b[0m\u001b[0m\n\u001b[1;32m   1227\u001b[0m \u001b[0;34m\u001b[0m\u001b[0m\n",
            "\u001b[0;32m/usr/local/lib/python3.7/dist-packages/sklearn/tree/_classes.py\u001b[0m in \u001b[0;36mfit\u001b[0;34m(self, X, y, sample_weight, check_input, X_idx_sorted)\u001b[0m\n\u001b[1;32m    365\u001b[0m                                            min_impurity_split)\n\u001b[1;32m    366\u001b[0m \u001b[0;34m\u001b[0m\u001b[0m\n\u001b[0;32m--> 367\u001b[0;31m         \u001b[0mbuilder\u001b[0m\u001b[0;34m.\u001b[0m\u001b[0mbuild\u001b[0m\u001b[0;34m(\u001b[0m\u001b[0mself\u001b[0m\u001b[0;34m.\u001b[0m\u001b[0mtree_\u001b[0m\u001b[0;34m,\u001b[0m \u001b[0mX\u001b[0m\u001b[0;34m,\u001b[0m \u001b[0my\u001b[0m\u001b[0;34m,\u001b[0m \u001b[0msample_weight\u001b[0m\u001b[0;34m,\u001b[0m \u001b[0mX_idx_sorted\u001b[0m\u001b[0;34m)\u001b[0m\u001b[0;34m\u001b[0m\u001b[0;34m\u001b[0m\u001b[0m\n\u001b[0m\u001b[1;32m    368\u001b[0m \u001b[0;34m\u001b[0m\u001b[0m\n\u001b[1;32m    369\u001b[0m         \u001b[0;32mif\u001b[0m \u001b[0mself\u001b[0m\u001b[0;34m.\u001b[0m\u001b[0mn_outputs_\u001b[0m \u001b[0;34m==\u001b[0m \u001b[0;36m1\u001b[0m \u001b[0;32mand\u001b[0m \u001b[0mis_classifier\u001b[0m\u001b[0;34m(\u001b[0m\u001b[0mself\u001b[0m\u001b[0;34m)\u001b[0m\u001b[0;34m:\u001b[0m\u001b[0;34m\u001b[0m\u001b[0;34m\u001b[0m\u001b[0m\n",
            "\u001b[0;31mKeyboardInterrupt\u001b[0m: "
          ]
        }
      ]
    },
    {
      "cell_type": "markdown",
      "metadata": {
        "id": "OeedqlakYoAv"
      },
      "source": [
        "## Validation"
      ]
    },
    {
      "cell_type": "code",
      "metadata": {
        "id": "TNeQJyBnbMQC"
      },
      "source": [
        "x_test_vec = vectorize_test(fitted_vectorizer, x_test['PublicRemarks'])"
      ],
      "execution_count": null,
      "outputs": []
    },
    {
      "cell_type": "markdown",
      "metadata": {
        "id": "YjGswCL3cGn4"
      },
      "source": [
        "### Linear Regression"
      ]
    },
    {
      "cell_type": "code",
      "metadata": {
        "id": "5rvDxGtzZuHc"
      },
      "source": [
        "lregression_predictions = lregression.predict(x_test_vec)"
      ],
      "execution_count": null,
      "outputs": []
    },
    {
      "cell_type": "code",
      "metadata": {
        "id": "OiW8KJSebXmU",
        "colab": {
          "base_uri": "https://localhost:8080/"
        },
        "outputId": "a2cea7a7-8ef5-4afd-fad0-fb407fb1ec96"
      },
      "source": [
        "accuracy = lregression.score(x_test_vec, y_test)\n",
        "print(\"The Linear Regression R² is: %.2f%%\" % (accuracy*100))"
      ],
      "execution_count": null,
      "outputs": [
        {
          "output_type": "stream",
          "text": [
            "The Linear Regression R² is: 34.11%\n"
          ],
          "name": "stdout"
        }
      ]
    },
    {
      "cell_type": "markdown",
      "metadata": {
        "id": "_t_QYZjEcLQD"
      },
      "source": [
        "### Ridge"
      ]
    },
    {
      "cell_type": "code",
      "metadata": {
        "id": "wSSpvevCcNHg"
      },
      "source": [
        "ridge_predictions = ridge.predict(x_test_vec)"
      ],
      "execution_count": null,
      "outputs": []
    },
    {
      "cell_type": "code",
      "metadata": {
        "id": "LzrpgfGgkjhz",
        "colab": {
          "base_uri": "https://localhost:8080/"
        },
        "outputId": "d165f5d4-b7f8-486c-a822-372254e7674a"
      },
      "source": [
        "accuracy = ridge.score(x_test_vec, y_test)\n",
        "print(\"The Ridge R² is: %.2f%%\" % (accuracy*100))"
      ],
      "execution_count": null,
      "outputs": [
        {
          "output_type": "stream",
          "text": [
            "The Ridge R² is: 34.62%\n"
          ],
          "name": "stdout"
        }
      ]
    },
    {
      "cell_type": "markdown",
      "metadata": {
        "id": "aVZSoL3GzA7U"
      },
      "source": [
        "### Bayesian Ridge"
      ]
    },
    {
      "cell_type": "code",
      "metadata": {
        "id": "k9w43kAokr2o"
      },
      "source": [
        "bayesian_ridge_prediction = bayesian_ridge.predict(x_test_vec)"
      ],
      "execution_count": null,
      "outputs": []
    },
    {
      "cell_type": "code",
      "metadata": {
        "id": "RniOob96k7eI",
        "colab": {
          "base_uri": "https://localhost:8080/"
        },
        "outputId": "b762a801-9c6b-482b-d0bd-893c28f60480"
      },
      "source": [
        "accuracy = bayesian_ridge.score(x_test_vec, y_test)\n",
        "print(\"The Bayesian ridge R² is: %.2f%%\" % (accuracy*100))"
      ],
      "execution_count": null,
      "outputs": [
        {
          "output_type": "stream",
          "text": [
            "The Bayesian ridge R² is: 34.96%\n"
          ],
          "name": "stdout"
        }
      ]
    },
    {
      "cell_type": "markdown",
      "metadata": {
        "id": "qzXYuI8X-qbm"
      },
      "source": [
        "### Random Forest"
      ]
    },
    {
      "cell_type": "code",
      "metadata": {
        "id": "F6Z-eIzu-syv"
      },
      "source": [
        "#accuracy = rforest.score(x_test_vec, y_test)\n",
        "#print(\"The rforest R² is: %.2f%%\" % (accuracy*100))"
      ],
      "execution_count": null,
      "outputs": []
    },
    {
      "cell_type": "markdown",
      "metadata": {
        "id": "01hW6xlHk-oR"
      },
      "source": [
        "## Test file"
      ]
    },
    {
      "cell_type": "code",
      "metadata": {
        "id": "28_-1qSu9l1P"
      },
      "source": [
        "test_filepath = 'test.csv'#'/content/drive/MyDrive/0. Machine Learning/Projetos/Prediction_Description_based/Cópia de test.csv'"
      ],
      "execution_count": null,
      "outputs": []
    },
    {
      "cell_type": "code",
      "metadata": {
        "id": "Kc1IKbFW9t0M",
        "colab": {
          "base_uri": "https://localhost:8080/",
          "height": 462
        },
        "outputId": "48e6b00a-0eed-4dbd-e2f4-f9b1007feed3"
      },
      "source": [
        "test_dataset = pd.read_csv(test_filepath)\n",
        "test_dataset.head()"
      ],
      "execution_count": null,
      "outputs": [
        {
          "output_type": "execute_result",
          "data": {
            "text/html": [
              "<div>\n",
              "<style scoped>\n",
              "    .dataframe tbody tr th:only-of-type {\n",
              "        vertical-align: middle;\n",
              "    }\n",
              "\n",
              "    .dataframe tbody tr th {\n",
              "        vertical-align: top;\n",
              "    }\n",
              "\n",
              "    .dataframe thead th {\n",
              "        text-align: right;\n",
              "    }\n",
              "</style>\n",
              "<table border=\"1\" class=\"dataframe\">\n",
              "  <thead>\n",
              "    <tr style=\"text-align: right;\">\n",
              "      <th></th>\n",
              "      <th>CloseDate</th>\n",
              "      <th>City</th>\n",
              "      <th>PostalCode</th>\n",
              "      <th>PropertySubType</th>\n",
              "      <th>ArchitecturalStyle</th>\n",
              "      <th>Levels</th>\n",
              "      <th>Sewer</th>\n",
              "      <th>StructureType</th>\n",
              "      <th>SubdivisionName</th>\n",
              "      <th>BathroomsFull</th>\n",
              "      <th>BathroomsHalf</th>\n",
              "      <th>BathroomsTotalInteger</th>\n",
              "      <th>BedroomsTotal</th>\n",
              "      <th>BuildingAreaTotal</th>\n",
              "      <th>DaysOnMarket</th>\n",
              "      <th>ListPrice</th>\n",
              "      <th>OriginalListPrice</th>\n",
              "      <th>YearBuilt</th>\n",
              "      <th>BedrmsAboveGrade</th>\n",
              "      <th>EnsuiteYN</th>\n",
              "      <th>FireplacesTotal</th>\n",
              "      <th>GarageYN</th>\n",
              "      <th>ListPriceSquareFoot</th>\n",
              "      <th>LotSizeSquareFeet</th>\n",
              "      <th>ParkingTotal</th>\n",
              "      <th>NewConstructionYN</th>\n",
              "      <th>RoomsAboveGrade</th>\n",
              "      <th>BuildingAreaTotalMetres</th>\n",
              "      <th>BuildingAreaTotalSF</th>\n",
              "      <th>LivingAreaMetres</th>\n",
              "      <th>LivingAreaSF</th>\n",
              "      <th>PublicRemarks</th>\n",
              "      <th>ClosePrice</th>\n",
              "    </tr>\n",
              "  </thead>\n",
              "  <tbody>\n",
              "    <tr>\n",
              "      <th>0</th>\n",
              "      <td>2020-06-02</td>\n",
              "      <td>Lethbridge</td>\n",
              "      <td>T1K</td>\n",
              "      <td>Detached</td>\n",
              "      <td>NaN</td>\n",
              "      <td>4 Level Split</td>\n",
              "      <td>Sewer</td>\n",
              "      <td>House</td>\n",
              "      <td>Indian Battle Heights</td>\n",
              "      <td>2.0</td>\n",
              "      <td>0.0</td>\n",
              "      <td>2.0</td>\n",
              "      <td>3.0</td>\n",
              "      <td>924.0</td>\n",
              "      <td>14.0</td>\n",
              "      <td>274900.0</td>\n",
              "      <td>274900.0</td>\n",
              "      <td>2002.0</td>\n",
              "      <td>2.0</td>\n",
              "      <td>NaN</td>\n",
              "      <td>0.0</td>\n",
              "      <td>0.0</td>\n",
              "      <td>297.5108</td>\n",
              "      <td>NaN</td>\n",
              "      <td>NaN</td>\n",
              "      <td>NaN</td>\n",
              "      <td>NaN</td>\n",
              "      <td>85.84</td>\n",
              "      <td>924.0</td>\n",
              "      <td>85.84</td>\n",
              "      <td>924.0</td>\n",
              "      <td>Largely renovated Fully Developed Avonlea buil...</td>\n",
              "      <td>268000.0</td>\n",
              "    </tr>\n",
              "    <tr>\n",
              "      <th>1</th>\n",
              "      <td>2020-06-02</td>\n",
              "      <td>Red Deer</td>\n",
              "      <td>T4N</td>\n",
              "      <td>NaN</td>\n",
              "      <td>NaN</td>\n",
              "      <td>NaN</td>\n",
              "      <td>NaN</td>\n",
              "      <td>NaN</td>\n",
              "      <td>Downtown Red Deer</td>\n",
              "      <td>NaN</td>\n",
              "      <td>NaN</td>\n",
              "      <td>NaN</td>\n",
              "      <td>NaN</td>\n",
              "      <td>2430.0</td>\n",
              "      <td>232.0</td>\n",
              "      <td>716850.0</td>\n",
              "      <td>716850.0</td>\n",
              "      <td>2012.0</td>\n",
              "      <td>NaN</td>\n",
              "      <td>0.0</td>\n",
              "      <td>NaN</td>\n",
              "      <td>0.0</td>\n",
              "      <td>NaN</td>\n",
              "      <td>NaN</td>\n",
              "      <td>NaN</td>\n",
              "      <td>0.0</td>\n",
              "      <td>0.0</td>\n",
              "      <td>225.75</td>\n",
              "      <td>2430.0</td>\n",
              "      <td>2430.00</td>\n",
              "      <td>2430.0</td>\n",
              "      <td>Commercial Condo for lease or sale in the high...</td>\n",
              "      <td>625500.0</td>\n",
              "    </tr>\n",
              "    <tr>\n",
              "      <th>2</th>\n",
              "      <td>2020-06-02</td>\n",
              "      <td>Lethbridge</td>\n",
              "      <td>T1J</td>\n",
              "      <td>Detached</td>\n",
              "      <td>2 Storey</td>\n",
              "      <td>Two</td>\n",
              "      <td>Sewer</td>\n",
              "      <td>House</td>\n",
              "      <td>Copperwood</td>\n",
              "      <td>2.0</td>\n",
              "      <td>1.0</td>\n",
              "      <td>3.0</td>\n",
              "      <td>2.0</td>\n",
              "      <td>1960.0</td>\n",
              "      <td>94.0</td>\n",
              "      <td>388900.0</td>\n",
              "      <td>394900.0</td>\n",
              "      <td>2013.0</td>\n",
              "      <td>3.0</td>\n",
              "      <td>NaN</td>\n",
              "      <td>1.0</td>\n",
              "      <td>1.0</td>\n",
              "      <td>198.4184</td>\n",
              "      <td>NaN</td>\n",
              "      <td>NaN</td>\n",
              "      <td>NaN</td>\n",
              "      <td>NaN</td>\n",
              "      <td>182.09</td>\n",
              "      <td>1960.0</td>\n",
              "      <td>182.09</td>\n",
              "      <td>1960.0</td>\n",
              "      <td>Check out the amazing value in this 3 bedroom ...</td>\n",
              "      <td>380000.0</td>\n",
              "    </tr>\n",
              "    <tr>\n",
              "      <th>3</th>\n",
              "      <td>2020-06-02</td>\n",
              "      <td>Medicine Hat</td>\n",
              "      <td>T1B</td>\n",
              "      <td>Detached</td>\n",
              "      <td>Bi-Level</td>\n",
              "      <td>Bi-Level</td>\n",
              "      <td>Sewer</td>\n",
              "      <td>House</td>\n",
              "      <td>SE Southridge</td>\n",
              "      <td>3.0</td>\n",
              "      <td>0.0</td>\n",
              "      <td>3.0</td>\n",
              "      <td>6.0</td>\n",
              "      <td>1495.0</td>\n",
              "      <td>232.0</td>\n",
              "      <td>349900.0</td>\n",
              "      <td>369900.0</td>\n",
              "      <td>1989.0</td>\n",
              "      <td>3.0</td>\n",
              "      <td>0.0</td>\n",
              "      <td>NaN</td>\n",
              "      <td>1.0</td>\n",
              "      <td>NaN</td>\n",
              "      <td>NaN</td>\n",
              "      <td>NaN</td>\n",
              "      <td>0.0</td>\n",
              "      <td>6.0</td>\n",
              "      <td>138.89</td>\n",
              "      <td>1495.0</td>\n",
              "      <td>138.89</td>\n",
              "      <td>1495.0</td>\n",
              "      <td>Southridge hosts this well designed 1495 sq ft...</td>\n",
              "      <td>325000.0</td>\n",
              "    </tr>\n",
              "    <tr>\n",
              "      <th>4</th>\n",
              "      <td>2020-06-02</td>\n",
              "      <td>Lethbridge</td>\n",
              "      <td>T1K</td>\n",
              "      <td>Detached</td>\n",
              "      <td>NaN</td>\n",
              "      <td>One</td>\n",
              "      <td>Sewer</td>\n",
              "      <td>House</td>\n",
              "      <td>Ridgewood</td>\n",
              "      <td>2.0</td>\n",
              "      <td>1.0</td>\n",
              "      <td>3.0</td>\n",
              "      <td>4.0</td>\n",
              "      <td>0.0</td>\n",
              "      <td>1.0</td>\n",
              "      <td>309900.0</td>\n",
              "      <td>309900.0</td>\n",
              "      <td>1987.0</td>\n",
              "      <td>2.0</td>\n",
              "      <td>1.0</td>\n",
              "      <td>1.0</td>\n",
              "      <td>1.0</td>\n",
              "      <td>240.6056</td>\n",
              "      <td>6760.0</td>\n",
              "      <td>2.0</td>\n",
              "      <td>0.0</td>\n",
              "      <td>2.0</td>\n",
              "      <td>0.00</td>\n",
              "      <td>0.0</td>\n",
              "      <td>119.66</td>\n",
              "      <td>1288.0</td>\n",
              "      <td>This home, located in West Lethbridge, is the ...</td>\n",
              "      <td>305000.0</td>\n",
              "    </tr>\n",
              "  </tbody>\n",
              "</table>\n",
              "</div>"
            ],
            "text/plain": [
              "    CloseDate  ... ClosePrice\n",
              "0  2020-06-02  ...   268000.0\n",
              "1  2020-06-02  ...   625500.0\n",
              "2  2020-06-02  ...   380000.0\n",
              "3  2020-06-02  ...   325000.0\n",
              "4  2020-06-02  ...   305000.0\n",
              "\n",
              "[5 rows x 33 columns]"
            ]
          },
          "metadata": {
            "tags": []
          },
          "execution_count": 42
        }
      ]
    },
    {
      "cell_type": "code",
      "metadata": {
        "id": "2peTHtVM91SN",
        "colab": {
          "base_uri": "https://localhost:8080/",
          "height": 419
        },
        "outputId": "5f8ee12d-9915-4d27-fdd4-dfd6cc14d5f2"
      },
      "source": [
        "new_test = test_dataset[['PublicRemarks', 'ClosePrice']]\n",
        "new_test"
      ],
      "execution_count": null,
      "outputs": [
        {
          "output_type": "execute_result",
          "data": {
            "text/html": [
              "<div>\n",
              "<style scoped>\n",
              "    .dataframe tbody tr th:only-of-type {\n",
              "        vertical-align: middle;\n",
              "    }\n",
              "\n",
              "    .dataframe tbody tr th {\n",
              "        vertical-align: top;\n",
              "    }\n",
              "\n",
              "    .dataframe thead th {\n",
              "        text-align: right;\n",
              "    }\n",
              "</style>\n",
              "<table border=\"1\" class=\"dataframe\">\n",
              "  <thead>\n",
              "    <tr style=\"text-align: right;\">\n",
              "      <th></th>\n",
              "      <th>PublicRemarks</th>\n",
              "      <th>ClosePrice</th>\n",
              "    </tr>\n",
              "  </thead>\n",
              "  <tbody>\n",
              "    <tr>\n",
              "      <th>0</th>\n",
              "      <td>Largely renovated Fully Developed Avonlea buil...</td>\n",
              "      <td>268000.0</td>\n",
              "    </tr>\n",
              "    <tr>\n",
              "      <th>1</th>\n",
              "      <td>Commercial Condo for lease or sale in the high...</td>\n",
              "      <td>625500.0</td>\n",
              "    </tr>\n",
              "    <tr>\n",
              "      <th>2</th>\n",
              "      <td>Check out the amazing value in this 3 bedroom ...</td>\n",
              "      <td>380000.0</td>\n",
              "    </tr>\n",
              "    <tr>\n",
              "      <th>3</th>\n",
              "      <td>Southridge hosts this well designed 1495 sq ft...</td>\n",
              "      <td>325000.0</td>\n",
              "    </tr>\n",
              "    <tr>\n",
              "      <th>4</th>\n",
              "      <td>This home, located in West Lethbridge, is the ...</td>\n",
              "      <td>305000.0</td>\n",
              "    </tr>\n",
              "    <tr>\n",
              "      <th>...</th>\n",
              "      <td>...</td>\n",
              "      <td>...</td>\n",
              "    </tr>\n",
              "    <tr>\n",
              "      <th>4909</th>\n",
              "      <td>Copperwood beauty! Meticulously maintained fam...</td>\n",
              "      <td>358000.0</td>\n",
              "    </tr>\n",
              "    <tr>\n",
              "      <th>4910</th>\n",
              "      <td>Looking for a single level, 3 bedroom condo on...</td>\n",
              "      <td>184500.0</td>\n",
              "    </tr>\n",
              "    <tr>\n",
              "      <th>4911</th>\n",
              "      <td>Looking for easy living?!? This low-maintenanc...</td>\n",
              "      <td>333500.0</td>\n",
              "    </tr>\n",
              "    <tr>\n",
              "      <th>4912</th>\n",
              "      <td>For more info click Multimedia - Natural light...</td>\n",
              "      <td>359000.0</td>\n",
              "    </tr>\n",
              "    <tr>\n",
              "      <th>4913</th>\n",
              "      <td>Spacious walk-out bungalow in a quiet Cul-De-S...</td>\n",
              "      <td>375000.0</td>\n",
              "    </tr>\n",
              "  </tbody>\n",
              "</table>\n",
              "<p>4914 rows × 2 columns</p>\n",
              "</div>"
            ],
            "text/plain": [
              "                                          PublicRemarks  ClosePrice\n",
              "0     Largely renovated Fully Developed Avonlea buil...    268000.0\n",
              "1     Commercial Condo for lease or sale in the high...    625500.0\n",
              "2     Check out the amazing value in this 3 bedroom ...    380000.0\n",
              "3     Southridge hosts this well designed 1495 sq ft...    325000.0\n",
              "4     This home, located in West Lethbridge, is the ...    305000.0\n",
              "...                                                 ...         ...\n",
              "4909  Copperwood beauty! Meticulously maintained fam...    358000.0\n",
              "4910  Looking for a single level, 3 bedroom condo on...    184500.0\n",
              "4911  Looking for easy living?!? This low-maintenanc...    333500.0\n",
              "4912  For more info click Multimedia - Natural light...    359000.0\n",
              "4913  Spacious walk-out bungalow in a quiet Cul-De-S...    375000.0\n",
              "\n",
              "[4914 rows x 2 columns]"
            ]
          },
          "metadata": {
            "tags": []
          },
          "execution_count": 43
        }
      ]
    },
    {
      "cell_type": "code",
      "metadata": {
        "id": "1GAh55ZL-ASV",
        "colab": {
          "base_uri": "https://localhost:8080/"
        },
        "outputId": "fb5f724c-85f3-48c3-a30f-de1f865545d6"
      },
      "source": [
        "new_test['PublicRemarks'] = new_test['PublicRemarks'].str.lower()"
      ],
      "execution_count": null,
      "outputs": [
        {
          "output_type": "stream",
          "text": [
            "/usr/local/lib/python3.7/dist-packages/ipykernel_launcher.py:1: SettingWithCopyWarning: \n",
            "A value is trying to be set on a copy of a slice from a DataFrame.\n",
            "Try using .loc[row_indexer,col_indexer] = value instead\n",
            "\n",
            "See the caveats in the documentation: https://pandas.pydata.org/pandas-docs/stable/user_guide/indexing.html#returning-a-view-versus-a-copy\n",
            "  \"\"\"Entry point for launching an IPython kernel.\n"
          ],
          "name": "stderr"
        }
      ]
    },
    {
      "cell_type": "code",
      "metadata": {
        "id": "btM2IBca-ZJM",
        "colab": {
          "base_uri": "https://localhost:8080/",
          "height": 306
        },
        "outputId": "b80ed1e1-b5cd-45c6-a58d-95d9278a5be7"
      },
      "source": [
        "new_test['PublicRemarks'] = new_test['PublicRemarks'].apply(remove_spechar)\n",
        "new_test.head()"
      ],
      "execution_count": null,
      "outputs": [
        {
          "output_type": "stream",
          "text": [
            "/usr/local/lib/python3.7/dist-packages/ipykernel_launcher.py:1: SettingWithCopyWarning: \n",
            "A value is trying to be set on a copy of a slice from a DataFrame.\n",
            "Try using .loc[row_indexer,col_indexer] = value instead\n",
            "\n",
            "See the caveats in the documentation: https://pandas.pydata.org/pandas-docs/stable/user_guide/indexing.html#returning-a-view-versus-a-copy\n",
            "  \"\"\"Entry point for launching an IPython kernel.\n"
          ],
          "name": "stderr"
        },
        {
          "output_type": "execute_result",
          "data": {
            "text/html": [
              "<div>\n",
              "<style scoped>\n",
              "    .dataframe tbody tr th:only-of-type {\n",
              "        vertical-align: middle;\n",
              "    }\n",
              "\n",
              "    .dataframe tbody tr th {\n",
              "        vertical-align: top;\n",
              "    }\n",
              "\n",
              "    .dataframe thead th {\n",
              "        text-align: right;\n",
              "    }\n",
              "</style>\n",
              "<table border=\"1\" class=\"dataframe\">\n",
              "  <thead>\n",
              "    <tr style=\"text-align: right;\">\n",
              "      <th></th>\n",
              "      <th>PublicRemarks</th>\n",
              "      <th>ClosePrice</th>\n",
              "    </tr>\n",
              "  </thead>\n",
              "  <tbody>\n",
              "    <tr>\n",
              "      <th>0</th>\n",
              "      <td>largely renovated fully developed avonlea buil...</td>\n",
              "      <td>268000.0</td>\n",
              "    </tr>\n",
              "    <tr>\n",
              "      <th>1</th>\n",
              "      <td>commercial condo for lease or sale in the high...</td>\n",
              "      <td>625500.0</td>\n",
              "    </tr>\n",
              "    <tr>\n",
              "      <th>2</th>\n",
              "      <td>check out the amazing value in this 3 bedroom ...</td>\n",
              "      <td>380000.0</td>\n",
              "    </tr>\n",
              "    <tr>\n",
              "      <th>3</th>\n",
              "      <td>southridge hosts this well designed 1495 sq ft...</td>\n",
              "      <td>325000.0</td>\n",
              "    </tr>\n",
              "    <tr>\n",
              "      <th>4</th>\n",
              "      <td>this home located in west lethbridge is the pe...</td>\n",
              "      <td>305000.0</td>\n",
              "    </tr>\n",
              "  </tbody>\n",
              "</table>\n",
              "</div>"
            ],
            "text/plain": [
              "                                       PublicRemarks  ClosePrice\n",
              "0  largely renovated fully developed avonlea buil...    268000.0\n",
              "1  commercial condo for lease or sale in the high...    625500.0\n",
              "2  check out the amazing value in this 3 bedroom ...    380000.0\n",
              "3  southridge hosts this well designed 1495 sq ft...    325000.0\n",
              "4  this home located in west lethbridge is the pe...    305000.0"
            ]
          },
          "metadata": {
            "tags": []
          },
          "execution_count": 45
        }
      ]
    },
    {
      "cell_type": "code",
      "metadata": {
        "id": "DuXu78yH-jCQ",
        "colab": {
          "base_uri": "https://localhost:8080/",
          "height": 306
        },
        "outputId": "65088ee7-651f-455e-9166-c0135c718c69"
      },
      "source": [
        "new_test['PublicRemarks'] = new_test['PublicRemarks'].apply(remove_stopwords)\n",
        "new_test.tail()"
      ],
      "execution_count": null,
      "outputs": [
        {
          "output_type": "stream",
          "text": [
            "/usr/local/lib/python3.7/dist-packages/ipykernel_launcher.py:1: SettingWithCopyWarning: \n",
            "A value is trying to be set on a copy of a slice from a DataFrame.\n",
            "Try using .loc[row_indexer,col_indexer] = value instead\n",
            "\n",
            "See the caveats in the documentation: https://pandas.pydata.org/pandas-docs/stable/user_guide/indexing.html#returning-a-view-versus-a-copy\n",
            "  \"\"\"Entry point for launching an IPython kernel.\n"
          ],
          "name": "stderr"
        },
        {
          "output_type": "execute_result",
          "data": {
            "text/html": [
              "<div>\n",
              "<style scoped>\n",
              "    .dataframe tbody tr th:only-of-type {\n",
              "        vertical-align: middle;\n",
              "    }\n",
              "\n",
              "    .dataframe tbody tr th {\n",
              "        vertical-align: top;\n",
              "    }\n",
              "\n",
              "    .dataframe thead th {\n",
              "        text-align: right;\n",
              "    }\n",
              "</style>\n",
              "<table border=\"1\" class=\"dataframe\">\n",
              "  <thead>\n",
              "    <tr style=\"text-align: right;\">\n",
              "      <th></th>\n",
              "      <th>PublicRemarks</th>\n",
              "      <th>ClosePrice</th>\n",
              "    </tr>\n",
              "  </thead>\n",
              "  <tbody>\n",
              "    <tr>\n",
              "      <th>4909</th>\n",
              "      <td>copperwood beauty meticulously maintained fami...</td>\n",
              "      <td>358000.0</td>\n",
              "    </tr>\n",
              "    <tr>\n",
              "      <th>4910</th>\n",
              "      <td>looking single level 3 bedroom condo south clo...</td>\n",
              "      <td>184500.0</td>\n",
              "    </tr>\n",
              "    <tr>\n",
              "      <th>4911</th>\n",
              "      <td>looking easy living low maintenance home provi...</td>\n",
              "      <td>333500.0</td>\n",
              "    </tr>\n",
              "    <tr>\n",
              "      <th>4912</th>\n",
              "      <td>info click multimedia natural lighting large b...</td>\n",
              "      <td>359000.0</td>\n",
              "    </tr>\n",
              "    <tr>\n",
              "      <th>4913</th>\n",
              "      <td>spacious walk bungalow quiet cul de sac close ...</td>\n",
              "      <td>375000.0</td>\n",
              "    </tr>\n",
              "  </tbody>\n",
              "</table>\n",
              "</div>"
            ],
            "text/plain": [
              "                                          PublicRemarks  ClosePrice\n",
              "4909  copperwood beauty meticulously maintained fami...    358000.0\n",
              "4910  looking single level 3 bedroom condo south clo...    184500.0\n",
              "4911  looking easy living low maintenance home provi...    333500.0\n",
              "4912  info click multimedia natural lighting large b...    359000.0\n",
              "4913  spacious walk bungalow quiet cul de sac close ...    375000.0"
            ]
          },
          "metadata": {
            "tags": []
          },
          "execution_count": 46
        }
      ]
    },
    {
      "cell_type": "markdown",
      "metadata": {
        "id": "-f3zD6TG_ktW"
      },
      "source": [
        "### X and Y"
      ]
    },
    {
      "cell_type": "code",
      "metadata": {
        "id": "tK_Z6Pwy_B6t"
      },
      "source": [
        "x_new_test = new_test.drop(columns=['ClosePrice'])\n",
        "y_new_test = new_test.drop(columns=['PublicRemarks'])"
      ],
      "execution_count": null,
      "outputs": []
    },
    {
      "cell_type": "code",
      "metadata": {
        "id": "F82TpNHIAs-v",
        "colab": {
          "base_uri": "https://localhost:8080/"
        },
        "outputId": "0ffe4d95-0807-4862-ac70-7b3d945cbca0"
      },
      "source": [
        "x_new_test.shape,y_new_test.shape"
      ],
      "execution_count": null,
      "outputs": [
        {
          "output_type": "execute_result",
          "data": {
            "text/plain": [
              "((4914, 1), (4914, 1))"
            ]
          },
          "metadata": {
            "tags": []
          },
          "execution_count": 48
        }
      ]
    },
    {
      "cell_type": "markdown",
      "metadata": {
        "id": "e0Z0X7l2__Kx"
      },
      "source": [
        "### Vectorizing"
      ]
    },
    {
      "cell_type": "code",
      "metadata": {
        "id": "8I1cyQFlAA93"
      },
      "source": [
        "x_new_test_vec = vectorize_test(fitted_vectorizer, x_new_test['PublicRemarks'])"
      ],
      "execution_count": null,
      "outputs": []
    },
    {
      "cell_type": "markdown",
      "metadata": {
        "id": "xI528VEjAM92"
      },
      "source": [
        "## Predictions"
      ]
    },
    {
      "cell_type": "markdown",
      "metadata": {
        "id": "GZpZKWB1DP-W"
      },
      "source": [
        "### Linear Regression"
      ]
    },
    {
      "cell_type": "code",
      "metadata": {
        "id": "zcAUJrAC_0wa"
      },
      "source": [
        "full_lregression_pred = lregression.predict(x_new_test_vec)"
      ],
      "execution_count": null,
      "outputs": []
    },
    {
      "cell_type": "code",
      "metadata": {
        "id": "g-2qHdLtASpB",
        "colab": {
          "base_uri": "https://localhost:8080/"
        },
        "outputId": "1202d4cc-1efd-4009-de1b-3d99f3a8211e"
      },
      "source": [
        "full_accuracy =lregression.score(x_new_test_vec, y_new_test)\n",
        "print(\"The Linear regression R² is: %.2f%%\" % (full_accuracy*100))"
      ],
      "execution_count": null,
      "outputs": [
        {
          "output_type": "stream",
          "text": [
            "The Linear regression R² is: 45.78%\n"
          ],
          "name": "stdout"
        }
      ]
    },
    {
      "cell_type": "code",
      "metadata": {
        "id": "RcsIDwp-Dftj"
      },
      "source": [
        "words = fitted_vectorizer.get_feature_names()"
      ],
      "execution_count": null,
      "outputs": []
    },
    {
      "cell_type": "code",
      "metadata": {
        "id": "5myCLyGsC4-b"
      },
      "source": [
        "weights = pd.DataFrame(zip(words,lregression.coef_[0]))"
      ],
      "execution_count": null,
      "outputs": []
    },
    {
      "cell_type": "code",
      "metadata": {
        "colab": {
          "base_uri": "https://localhost:8080/",
          "height": 419
        },
        "id": "WeB0ZtXEDMri",
        "outputId": "29936c0f-a67f-48b6-ecdc-6ce59bd12d82"
      },
      "source": [
        "weights.sort_values(by=1, ascending=True)"
      ],
      "execution_count": null,
      "outputs": [
        {
          "output_type": "execute_result",
          "data": {
            "text/html": [
              "<div>\n",
              "<style scoped>\n",
              "    .dataframe tbody tr th:only-of-type {\n",
              "        vertical-align: middle;\n",
              "    }\n",
              "\n",
              "    .dataframe tbody tr th {\n",
              "        vertical-align: top;\n",
              "    }\n",
              "\n",
              "    .dataframe thead th {\n",
              "        text-align: right;\n",
              "    }\n",
              "</style>\n",
              "<table border=\"1\" class=\"dataframe\">\n",
              "  <thead>\n",
              "    <tr style=\"text-align: right;\">\n",
              "      <th></th>\n",
              "      <th>0</th>\n",
              "      <th>1</th>\n",
              "    </tr>\n",
              "  </thead>\n",
              "  <tbody>\n",
              "    <tr>\n",
              "      <th>465</th>\n",
              "      <td>mobile</td>\n",
              "      <td>-328820.113354</td>\n",
              "    </tr>\n",
              "    <tr>\n",
              "      <th>408</th>\n",
              "      <td>lease</td>\n",
              "      <td>-301221.299653</td>\n",
              "    </tr>\n",
              "    <tr>\n",
              "      <th>303</th>\n",
              "      <td>footage</td>\n",
              "      <td>-256116.740465</td>\n",
              "    </tr>\n",
              "    <tr>\n",
              "      <th>509</th>\n",
              "      <td>overhead</td>\n",
              "      <td>-231439.739193</td>\n",
              "    </tr>\n",
              "    <tr>\n",
              "      <th>590</th>\n",
              "      <td>rent</td>\n",
              "      <td>-206048.361669</td>\n",
              "    </tr>\n",
              "    <tr>\n",
              "      <th>...</th>\n",
              "      <td>...</td>\n",
              "      <td>...</td>\n",
              "    </tr>\n",
              "    <tr>\n",
              "      <th>733</th>\n",
              "      <td>triple</td>\n",
              "      <td>294298.057233</td>\n",
              "    </tr>\n",
              "    <tr>\n",
              "      <th>294</th>\n",
              "      <td>fireplaces</td>\n",
              "      <td>312831.588909</td>\n",
              "    </tr>\n",
              "    <tr>\n",
              "      <th>264</th>\n",
              "      <td>executive</td>\n",
              "      <td>331890.571506</td>\n",
              "    </tr>\n",
              "    <tr>\n",
              "      <th>263</th>\n",
              "      <td>exceptional</td>\n",
              "      <td>372827.103650</td>\n",
              "    </tr>\n",
              "    <tr>\n",
              "      <th>743</th>\n",
              "      <td>units</td>\n",
              "      <td>557619.290526</td>\n",
              "    </tr>\n",
              "  </tbody>\n",
              "</table>\n",
              "<p>800 rows × 2 columns</p>\n",
              "</div>"
            ],
            "text/plain": [
              "               0              1\n",
              "465       mobile -328820.113354\n",
              "408        lease -301221.299653\n",
              "303      footage -256116.740465\n",
              "509     overhead -231439.739193\n",
              "590         rent -206048.361669\n",
              "..           ...            ...\n",
              "733       triple  294298.057233\n",
              "294   fireplaces  312831.588909\n",
              "264    executive  331890.571506\n",
              "263  exceptional  372827.103650\n",
              "743        units  557619.290526\n",
              "\n",
              "[800 rows x 2 columns]"
            ]
          },
          "metadata": {
            "tags": []
          },
          "execution_count": 54
        }
      ]
    },
    {
      "cell_type": "code",
      "metadata": {
        "colab": {
          "base_uri": "https://localhost:8080/"
        },
        "id": "GUgkYv1WFxap",
        "outputId": "cfa570cd-40f8-48cb-f1d1-05900a5c9685"
      },
      "source": [
        "lregression.intercept_"
      ],
      "execution_count": null,
      "outputs": [
        {
          "output_type": "execute_result",
          "data": {
            "text/plain": [
              "array([215621.62741009])"
            ]
          },
          "metadata": {
            "tags": []
          },
          "execution_count": 55
        }
      ]
    },
    {
      "cell_type": "code",
      "metadata": {
        "colab": {
          "base_uri": "https://localhost:8080/",
          "height": 295
        },
        "id": "vXmKHbDDMJW2",
        "outputId": "49e21f3f-7e9a-4953-d19d-2ef2fed80e25"
      },
      "source": [
        "plt.scatter(y_new_test, full_lregression_pred)"
      ],
      "execution_count": null,
      "outputs": [
        {
          "output_type": "execute_result",
          "data": {
            "text/plain": [
              "<matplotlib.collections.PathCollection at 0x7fbf5f6709d0>"
            ]
          },
          "metadata": {
            "tags": []
          },
          "execution_count": 60
        },
        {
          "output_type": "display_data",
          "data": {
            "image/png": "[encoded data removed]",
            "text/plain": [
              "<Figure size 432x288 with 1 Axes>"
            ]
          },
          "metadata": {
            "tags": [],
            "needs_background": "light"
          }
        }
      ]
    },
    {
      "cell_type": "code",
      "metadata": {
        "colab": {
          "base_uri": "https://localhost:8080/",
          "height": 279
        },
        "id": "UNQEXx1sMSXN",
        "outputId": "b8f4c5e8-8c09-4169-fbbd-8387d310353f"
      },
      "source": [
        "idx_outlier = y_new_test['ClosePrice'].values<3e6\n",
        "plt.scatter(y_new_test[idx_outlier], full_lregression_pred[idx_outlier])\n",
        "plt.ylabel('Predicted Test Price')\n",
        "plt.xlabel('True Test Price')\n",
        "plt.show()"
      ],
      "execution_count": null,
      "outputs": [
        {
          "output_type": "display_data",
          "data": {
            "image/png": "[encoded data removed]",
            "text/plain": [
              "<Figure size 432x288 with 1 Axes>"
            ]
          },
          "metadata": {
            "tags": [],
            "needs_background": "light"
          }
        }
      ]
    },
    {
      "cell_type": "code",
      "metadata": {
        "id": "KswLbdx8MSG0"
      },
      "source": [
        "y = y_new_test[idx_outlier]\n",
        "y_pred = full_lregression_pred[idx_outlier]"
      ],
      "execution_count": null,
      "outputs": []
    },
    {
      "cell_type": "code",
      "metadata": {
        "colab": {
          "base_uri": "https://localhost:8080/"
        },
        "id": "bRDM_QqSRADp",
        "outputId": "b011c7a0-c536-4b25-8675-c96092a1cb35"
      },
      "source": [
        "import numpy as np\n",
        "def mape(y, y_pred, min_value=100000):\n",
        "  idx_filter = y['ClosePrice'].values>min_value\n",
        "  return np.mean(np.abs((y[idx_filter]-y_pred[idx_filter])/y))\n",
        "\n",
        "print(mape(y_new_test[idx_outlier], full_lregression_pred[idx_outlier]))"
      ],
      "execution_count": null,
      "outputs": [
        {
          "output_type": "stream",
          "text": [
            "ClosePrice    0.202217\n",
            "dtype: float64\n"
          ],
          "name": "stdout"
        }
      ]
    },
    {
      "cell_type": "code",
      "metadata": {
        "colab": {
          "base_uri": "https://localhost:8080/"
        },
        "id": "VIWG_K_sSEdb",
        "outputId": "2d0a43ce-fc45-4780-aa9e-deffa2570ae2"
      },
      "source": [
        "from sklearn.metrics import r2_score\n",
        "r2_score(y[idx_filter], y_pred[idx_filter])"
      ],
      "execution_count": null,
      "outputs": [
        {
          "output_type": "execute_result",
          "data": {
            "text/plain": [
              "0.5122825583349371"
            ]
          },
          "metadata": {
            "tags": []
          },
          "execution_count": 77
        }
      ]
    },
    {
      "cell_type": "code",
      "metadata": {
        "id": "7uK5XFeRS5qQ"
      },
      "source": [
        "importance = pd.Series(lregression.coef_[0], index=words)"
      ],
      "execution_count": null,
      "outputs": []
    },
    {
      "cell_type": "code",
      "metadata": {
        "colab": {
          "base_uri": "https://localhost:8080/",
          "height": 281
        },
        "id": "_bNlwjq6S_eY",
        "outputId": "f1a3a0f0-0989-42f8-b33d-d6881b8b5b51"
      },
      "source": [
        "_=importance.sort_values().plot(title='Weights of the LR model vs Vocabulary from TDIDF Vector')"
      ],
      "execution_count": null,
      "outputs": [
        {
          "output_type": "display_data",
          "data": {
            "image/png": "[encoded data removed]",
            "text/plain": [
              "<Figure size 432x288 with 1 Axes>"
            ]
          },
          "metadata": {
            "tags": [],
            "needs_background": "light"
          }
        }
      ]
    },
    {
      "cell_type": "code",
      "metadata": {
        "colab": {
          "base_uri": "https://localhost:8080/",
          "height": 282
        },
        "id": "q_DSAZoxTMuB",
        "outputId": "fc7ec62a-36ae-4a09-a68f-7659a627ecf9"
      },
      "source": [
        "importance.sort_values().tail(50).plot()"
      ],
      "execution_count": null,
      "outputs": [
        {
          "output_type": "execute_result",
          "data": {
            "text/plain": [
              "<matplotlib.axes._subplots.AxesSubplot at 0x7fbf4f194910>"
            ]
          },
          "metadata": {
            "tags": []
          },
          "execution_count": 89
        },
        {
          "output_type": "display_data",
          "data": {
            "image/png": "[encoded data removed]",
            "text/plain": [
              "<Figure size 432x288 with 1 Axes>"
            ]
          },
          "metadata": {
            "tags": [],
            "needs_background": "light"
          }
        }
      ]
    },
    {
      "cell_type": "code",
      "metadata": {
        "colab": {
          "base_uri": "https://localhost:8080/",
          "height": 329
        },
        "id": "r2S6kD7ITMk5",
        "outputId": "b2afaa30-fa25-4558-c51a-6c57d0027160"
      },
      "source": [
        "_=importance.sort_values().tail(10).plot.bar(title='Top Important Words that positivelly impacts the model')"
      ],
      "execution_count": null,
      "outputs": [
        {
          "output_type": "display_data",
          "data": {
            "image/png": "[encoded data removed]",
            "text/plain": [
              "<Figure size 432x288 with 1 Axes>"
            ]
          },
          "metadata": {
            "tags": [],
            "needs_background": "light"
          }
        }
      ]
    },
    {
      "cell_type": "code",
      "metadata": {
        "colab": {
          "base_uri": "https://localhost:8080/",
          "height": 320
        },
        "id": "nkjUOHapTF44",
        "outputId": "02a07d81-a2d1-4cec-9793-60716c922ead"
      },
      "source": [
        "_=importance.sort_values().head(10).plot.bar(title='Top Important keywords that negativelly impacts the model')"
      ],
      "execution_count": null,
      "outputs": [
        {
          "output_type": "display_data",
          "data": {
            "image/png": "[encoded data removed]",
            "text/plain": [
              "<Figure size 432x288 with 1 Axes>"
            ]
          },
          "metadata": {
            "tags": [],
            "needs_background": "light"
          }
        }
      ]
    },
    {
      "cell_type": "code",
      "metadata": {
        "id": "n_Be9CE9UQH8"
      },
      "source": [
        ""
      ],
      "execution_count": null,
      "outputs": []
    },
    {
      "cell_type": "markdown",
      "metadata": {
        "id": "clTlWsPmBXls"
      },
      "source": [
        "### Ridge"
      ]
    },
    {
      "cell_type": "code",
      "metadata": {
        "id": "rGsiiR0kDYfy"
      },
      "source": [
        "ridge_predictions = ridge.predict(x_new_test_vec)"
      ],
      "execution_count": null,
      "outputs": []
    },
    {
      "cell_type": "code",
      "metadata": {
        "id": "zjEduP5MDdko",
        "colab": {
          "base_uri": "https://localhost:8080/"
        },
        "outputId": "6ca425e8-3044-4594-f437-0b9fc505f575"
      },
      "source": [
        "full_accuracy = ridge.score(x_new_test_vec, y_new_test)\n",
        "print(\"The Ridge R² is: %.2f%%\" % (full_accuracy*100))"
      ],
      "execution_count": null,
      "outputs": [
        {
          "output_type": "stream",
          "text": [
            "The Ridge R² is: 46.50%\n"
          ],
          "name": "stdout"
        }
      ]
    },
    {
      "cell_type": "markdown",
      "metadata": {
        "id": "Ns4TyKU8Dl2x"
      },
      "source": [
        "### Bayesian Ridge"
      ]
    },
    {
      "cell_type": "code",
      "metadata": {
        "id": "e9hQNqP9Dq8u"
      },
      "source": [
        "array_x_new_test_vec = x_new_test_vec.toarray()\n",
        "bayesian_ridge_predictions = bayesian_ridge.predict(array_x_new_test_vec)"
      ],
      "execution_count": null,
      "outputs": []
    },
    {
      "cell_type": "code",
      "metadata": {
        "id": "Og7QPOifD4AB",
        "colab": {
          "base_uri": "https://localhost:8080/"
        },
        "outputId": "214d70fb-888c-435a-ad8f-4cf45355a141"
      },
      "source": [
        "full_accuracy = bayesian_ridge.score(array_x_new_test_vec, y_new_test)\n",
        "print(\"The Bayesian Ridge R² is: %.2f%%\" % (full_accuracy*100))"
      ],
      "execution_count": null,
      "outputs": [
        {
          "output_type": "stream",
          "text": [
            "The Bayesian Ridge R² is: 46.80%\n"
          ],
          "name": "stdout"
        }
      ]
    }
  ]
}